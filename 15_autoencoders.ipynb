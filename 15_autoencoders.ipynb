{
 "cells": [
  {
   "cell_type": "code",
   "execution_count": 1,
   "metadata": {},
   "outputs": [
    {
     "name": "stdout",
     "output_type": "stream",
     "text": [
      "CPython 3.6.6\n",
      "IPython 6.5.0\n",
      "\n",
      "numpy 1.15.2\n",
      "sklearn 0.20.0\n",
      "scipy 1.1.0\n",
      "matplotlib 3.0.0\n",
      "tensorflow 1.11.0\n"
     ]
    }
   ],
   "source": [
    "%load_ext watermark\n",
    "%watermark -v -p numpy,sklearn,scipy,matplotlib,tensorflow"
   ]
  },
  {
   "cell_type": "markdown",
   "metadata": {},
   "source": [
    "**15장 – 오토인코더**"
   ]
  },
  {
   "cell_type": "markdown",
   "metadata": {},
   "source": [
    "_이 노트북은 15장에 있는 모든 샘플 코드와 연습문제 해답을 가지고 있습니다._"
   ]
  },
  {
   "cell_type": "markdown",
   "metadata": {},
   "source": [
    "# 설정"
   ]
  },
  {
   "cell_type": "markdown",
   "metadata": {},
   "source": [
    "파이썬 2와 3을 모두 지원합니다. 공통 모듈을 임포트하고 맷플롯립 그림이 노트북 안에 포함되도록 설정하고 생성한 그림을 저장하기 위한 함수를 준비합니다:"
   ]
  },
  {
   "cell_type": "code",
   "execution_count": 2,
   "metadata": {},
   "outputs": [],
   "source": [
    "# 파이썬 2와 파이썬 3 지원\n",
    "from __future__ import division, print_function, unicode_literals\n",
    "\n",
    "# 공통\n",
    "import numpy as np\n",
    "import os\n",
    "import sys\n",
    "\n",
    "# 일관된 출력을 위해 유사난수 초기화\n",
    "def reset_graph(seed=42):\n",
    "    tf.reset_default_graph()\n",
    "    tf.set_random_seed(seed)\n",
    "    np.random.seed(seed)\n",
    "\n",
    "# 맷플롯립 설정\n",
    "%matplotlib inline\n",
    "import matplotlib\n",
    "import matplotlib.pyplot as plt\n",
    "plt.rcParams['axes.labelsize'] = 14\n",
    "plt.rcParams['xtick.labelsize'] = 12\n",
    "plt.rcParams['ytick.labelsize'] = 12\n",
    "\n",
    "# 한글출력\n",
    "plt.rcParams['font.family'] = 'NanumBarunGothic'\n",
    "plt.rcParams['axes.unicode_minus'] = False\n",
    "\n",
    "# 그림을 저장할 폴더\n",
    "PROJECT_ROOT_DIR = \".\"\n",
    "CHAPTER_ID = \"autoencoders\"\n",
    "\n",
    "def save_fig(fig_id, tight_layout=True):\n",
    "    path = os.path.join(PROJECT_ROOT_DIR, \"images\", CHAPTER_ID, fig_id + \".png\")\n",
    "    if tight_layout:\n",
    "        plt.tight_layout()\n",
    "    plt.savefig(path, format='png', dpi=300)"
   ]
  },
  {
   "cell_type": "markdown",
   "metadata": {},
   "source": [
    "28x28 흑백 이미지를 그리기 위한 유틸리티 함수:"
   ]
  },
  {
   "cell_type": "code",
   "execution_count": 3,
   "metadata": {},
   "outputs": [],
   "source": [
    "def plot_image(image, shape=[28, 28]):\n",
    "    plt.imshow(image.reshape(shape), cmap=\"Greys\", interpolation=\"nearest\")\n",
    "    plt.axis(\"off\")"
   ]
  },
  {
   "cell_type": "code",
   "execution_count": 4,
   "metadata": {},
   "outputs": [],
   "source": [
    "def plot_multiple_images(images, n_rows, n_cols, pad=2):\n",
    "    images = images - images.min()  # 최소값을 0으로 만들어 패딩이 하얗게 보이도록 합니다.\n",
    "    w,h = images.shape[1:]\n",
    "    image = np.zeros(((w+pad)*n_rows+pad, (h+pad)*n_cols+pad))\n",
    "    for y in range(n_rows):\n",
    "        for x in range(n_cols):\n",
    "            image[(y*(h+pad)+pad):(y*(h+pad)+pad+h),(x*(w+pad)+pad):(x*(w+pad)+pad+w)] = images[y*n_cols+x]\n",
    "    plt.imshow(image, cmap=\"Greys\", interpolation=\"nearest\")\n",
    "    plt.axis(\"off\")"
   ]
  },
  {
   "cell_type": "markdown",
   "metadata": {},
   "source": [
    "# 선형 오토인코더를 사용한 PCA"
   ]
  },
  {
   "cell_type": "markdown",
   "metadata": {},
   "source": [
    "3D 데이터셋을 만듭니다:"
   ]
  },
  {
   "cell_type": "code",
   "execution_count": 5,
   "metadata": {},
   "outputs": [],
   "source": [
    "import numpy.random as rnd\n",
    "\n",
    "rnd.seed(4)\n",
    "m = 200\n",
    "w1, w2 = 0.1, 0.3\n",
    "noise = 0.1\n",
    "\n",
    "angles = rnd.rand(m) * 3 * np.pi / 2 - 0.5\n",
    "data = np.empty((m, 3))\n",
    "data[:, 0] = np.cos(angles) + np.sin(angles)/2 + noise * rnd.randn(m) / 2\n",
    "data[:, 1] = np.sin(angles) * 0.7 + noise * rnd.randn(m) / 2\n",
    "data[:, 2] = data[:, 0] * w1 + data[:, 1] * w2 + noise * rnd.randn(m)"
   ]
  },
  {
   "cell_type": "markdown",
   "metadata": {},
   "source": [
    "데이터를 정규화합니다:"
   ]
  },
  {
   "cell_type": "code",
   "execution_count": 6,
   "metadata": {},
   "outputs": [],
   "source": [
    "from sklearn.preprocessing import StandardScaler\n",
    "scaler = StandardScaler()\n",
    "X_train = scaler.fit_transform(data[:100])\n",
    "X_test = scaler.transform(data[100:])"
   ]
  },
  {
   "cell_type": "markdown",
   "metadata": {},
   "source": [
    "오토인코더를 만듭니다:"
   ]
  },
  {
   "cell_type": "code",
   "execution_count": 7,
   "metadata": {},
   "outputs": [],
   "source": [
    "import tensorflow as tf\n",
    "\n",
    "reset_graph()\n",
    "\n",
    "n_inputs = 3\n",
    "n_hidden = 2  # 코딩 유닛\n",
    "n_outputs = n_inputs\n",
    "\n",
    "learning_rate = 0.01\n",
    "\n",
    "X = tf.placeholder(tf.float32, shape=[None, n_inputs])\n",
    "hidden = tf.layers.dense(X, n_hidden)\n",
    "outputs = tf.layers.dense(hidden, n_outputs)\n",
    "\n",
    "reconstruction_loss = tf.reduce_mean(tf.square(outputs - X))\n",
    "\n",
    "optimizer = tf.train.AdamOptimizer(learning_rate)\n",
    "training_op = optimizer.minimize(reconstruction_loss)\n",
    "\n",
    "init = tf.global_variables_initializer()"
   ]
  },
  {
   "cell_type": "code",
   "execution_count": 8,
   "metadata": {},
   "outputs": [],
   "source": [
    "n_iterations = 1000\n",
    "codings = hidden\n",
    "\n",
    "with tf.Session() as sess:\n",
    "    init.run()\n",
    "    for iteration in range(n_iterations):\n",
    "        training_op.run(feed_dict={X: X_train})\n",
    "    codings_val = codings.eval(feed_dict={X: X_test})"
   ]
  },
  {
   "cell_type": "code",
   "execution_count": 9,
   "metadata": {},
   "outputs": [
    {
     "data": {
      "image/png": "[encoded data removed]",
      "text/plain": [
       "<Figure size 288x216 with 1 Axes>"
      ]
     },
     "metadata": {
      "needs_background": "light"
     },
     "output_type": "display_data"
    }
   ],
   "source": [
    "fig = plt.figure(figsize=(4,3))\n",
    "plt.plot(codings_val[:,0], codings_val[:, 1], \"b.\")\n",
    "plt.xlabel(\"$z_1$\", fontsize=18)\n",
    "plt.ylabel(\"$z_2$\", fontsize=18, rotation=0)\n",
    "save_fig(\"linear_autoencoder_pca_plot\")\n",
    "plt.show()"
   ]
  },
  {
   "cell_type": "markdown",
   "metadata": {},
   "source": [
    "# 적층 오토인코더"
   ]
  },
  {
   "cell_type": "markdown",
   "metadata": {},
   "source": [
    "MNIST 데이터셋을 사용합니다:"
   ]
  },
  {
   "cell_type": "markdown",
   "metadata": {},
   "source": [
    "주의: `tf.examples.tutorials.mnist`은 삭제될 예정이므로 대신 `tf.keras.datasets.mnist`를 사용하겠습니다."
   ]
  },
  {
   "cell_type": "code",
   "execution_count": 10,
   "metadata": {},
   "outputs": [],
   "source": [
    "(X_train, y_train), (X_test, y_test) = tf.keras.datasets.mnist.load_data()\n",
    "X_train = X_train.astype(np.float32).reshape(-1, 28*28) / 255.0\n",
    "X_test = X_test.astype(np.float32).reshape(-1, 28*28) / 255.0\n",
    "y_train = y_train.astype(np.int32)\n",
    "y_test = y_test.astype(np.int32)\n",
    "X_valid, X_train = X_train[:5000], X_train[5000:]\n",
    "y_valid, y_train = y_train[:5000], y_train[5000:]"
   ]
  },
  {
   "cell_type": "code",
   "execution_count": 11,
   "metadata": {},
   "outputs": [],
   "source": [
    "def shuffle_batch(X, y, batch_size):\n",
    "    rnd_idx = np.random.permutation(len(X))\n",
    "    n_batches = len(X) // batch_size\n",
    "    for batch_idx in np.array_split(rnd_idx, n_batches):\n",
    "        X_batch, y_batch = X[batch_idx], y[batch_idx]\n",
    "        yield X_batch, y_batch"
   ]
  },
  {
   "cell_type": "code",
   "execution_count": 12,
   "metadata": {},
   "outputs": [],
   "source": [
    "# from tensorflow.examples.tutorials.mnist import input_data\n",
    "# mnist = input_data.read_data_sets(\"/tmp/data/\")"
   ]
  },
  {
   "cell_type": "markdown",
   "metadata": {},
   "source": [
    "## 한 번에 모든 층을 훈련하기"
   ]
  },
  {
   "cell_type": "markdown",
   "metadata": {},
   "source": [
    "3개의 은닉층과 1개의 출력층(즉, 두 개를 적층)을 가진 적층 오토인코더를 만들어 보겠습니다. ELU 활성화 함수와 He 초기화, L2 정규화를 사용하겠습니다."
   ]
  },
  {
   "cell_type": "code",
   "execution_count": 13,
   "metadata": {},
   "outputs": [],
   "source": [
    "reset_graph()\n",
    "\n",
    "from functools import partial\n",
    "\n",
    "n_inputs = 28 * 28\n",
    "n_hidden1 = 300\n",
    "n_hidden2 = 150  # 코딩 유닛\n",
    "n_hidden3 = n_hidden1\n",
    "n_outputs = n_inputs\n",
    "\n",
    "learning_rate = 0.01\n",
    "l2_reg = 0.0001\n",
    "\n",
    "X = tf.placeholder(tf.float32, shape=[None, n_inputs])\n",
    "\n",
    "he_init = tf.variance_scaling_initializer() # He 초기화\n",
    "#아래와 동일합니다:\n",
    "#he_init = lambda shape, dtype=tf.float32: tf.truncated_normal(shape, 0., stddev=np.sqrt(2/shape[0]))\n",
    "l2_regularizer = tf.contrib.layers.l2_regularizer(l2_reg)\n",
    "my_dense_layer = partial(tf.layers.dense,\n",
    "                         activation=tf.nn.elu,\n",
    "                         kernel_initializer=he_init,\n",
    "                         kernel_regularizer=l2_regularizer)\n",
    "\n",
    "hidden1 = my_dense_layer(X, n_hidden1)\n",
    "hidden2 = my_dense_layer(hidden1, n_hidden2)\n",
    "hidden3 = my_dense_layer(hidden2, n_hidden3)\n",
    "outputs = my_dense_layer(hidden3, n_outputs, activation=None)\n",
    "\n",
    "reconstruction_loss = tf.reduce_mean(tf.square(outputs - X))\n",
    "\n",
    "reg_losses = tf.get_collection(tf.GraphKeys.REGULARIZATION_LOSSES)\n",
    "loss = tf.add_n([reconstruction_loss] + reg_losses)\n",
    "\n",
    "optimizer = tf.train.AdamOptimizer(learning_rate)\n",
    "training_op = optimizer.minimize(loss)\n",
    "\n",
    "init = tf.global_variables_initializer()\n",
    "saver = tf.train.Saver() # 책에는 없음"
   ]
  },
  {
   "cell_type": "markdown",
   "metadata": {},
   "source": [
    "이제 훈련시켜 보죠! 여기에서는 타깃 값을 주입하지 않습니다(`y_batch`가 사용되지 않습니다). 이는 비지도 학습입니다."
   ]
  },
  {
   "cell_type": "code",
   "execution_count": 14,
   "metadata": {},
   "outputs": [
    {
     "name": "stdout",
     "output_type": "stream",
     "text": [
      "0 훈련 MSE: 0.020337842\n",
      "1 훈련 MSE: 0.01147661\n",
      "2 훈련 MSE: 0.011801277\n",
      "3 훈련 MSE: 0.011669198\n",
      "4 훈련 MSE: 0.011595983\n"
     ]
    }
   ],
   "source": [
    "n_epochs = 5\n",
    "batch_size = 150\n",
    "\n",
    "with tf.Session() as sess:\n",
    "    init.run()\n",
    "    for epoch in range(n_epochs):\n",
    "        n_batches = len(X_train) // batch_size\n",
    "        for iteration in range(n_batches):\n",
    "            print(\"\\r{}%\".format(100 * iteration // n_batches), end=\"\") # 책에는 없음\n",
    "            sys.stdout.flush()                                          # 책에는 없음\n",
    "            X_batch, y_batch = next(shuffle_batch(X_train, y_train, batch_size))\n",
    "            sess.run(training_op, feed_dict={X: X_batch})\n",
    "        loss_train = reconstruction_loss.eval(feed_dict={X: X_batch})   # 책에는 없음\n",
    "        print(\"\\r{}\".format(epoch), \"훈련 MSE:\", loss_train)             # 책에는 없음\n",
    "        saver.save(sess, \"./my_model_all_layers.ckpt\")                  # 책에는 없음"
   ]
  },
  {
   "cell_type": "markdown",
   "metadata": {},
   "source": [
    "이 함수는 모델을 로드하고 테스트 세트에서 이를 평가합니다(재구성 오차를 측정합니다). 그런 다음 원본 이미지와 재구성 이미지를 그립니다:"
   ]
  },
  {
   "cell_type": "code",
   "execution_count": 15,
   "metadata": {},
   "outputs": [],
   "source": [
    "def show_reconstructed_digits(X, outputs, model_path = None, n_test_digits = 2):\n",
    "    with tf.Session() as sess:\n",
    "        if model_path:\n",
    "            saver.restore(sess, model_path)\n",
    "#         X_test = mnist.test.images[:n_test_digits]\n",
    "        outputs_val = outputs.eval(feed_dict={X: X_test[:n_test_digits]})\n",
    "\n",
    "    fig = plt.figure(figsize=(8, 3 * n_test_digits))\n",
    "    for digit_index in range(n_test_digits):\n",
    "        plt.subplot(n_test_digits, 2, digit_index * 2 + 1)\n",
    "        plot_image(X_test[digit_index])\n",
    "        plt.subplot(n_test_digits, 2, digit_index * 2 + 2)\n",
    "        plot_image(outputs_val[digit_index])"
   ]
  },
  {
   "cell_type": "code",
   "execution_count": 16,
   "metadata": {
    "scrolled": false
   },
   "outputs": [
    {
     "name": "stdout",
     "output_type": "stream",
     "text": [
      "INFO:tensorflow:Restoring parameters from ./my_model_all_layers.ckpt\n"
     ]
    },
    {
     "data": {
      "image/png": "[encoded data removed]",
      "text/plain": [
       "<Figure size 576x432 with 4 Axes>"
      ]
     },
     "metadata": {
      "needs_background": "light"
     },
     "output_type": "display_data"
    }
   ],
   "source": [
    "show_reconstructed_digits(X, outputs, \"./my_model_all_layers.ckpt\")\n",
    "save_fig(\"reconstruction_plot\")"
   ]
  },
  {
   "cell_type": "markdown",
   "metadata": {},
   "source": [
    "## 가중치 묶기"
   ]
  },
  {
   "cell_type": "markdown",
   "metadata": {},
   "source": [
    "인코더와 디코더의 가중치를 묶는 일은 자주 있습니다(`weights_decoder = tf.transpose(weights_encoder)`). 안타깝지만 `tf.layers.dense()` 함수를 사용해서 이렇게 하기는 불가능합니다(또는 매우 어렵습니다). 수동으로 직접 오토인코더를 만들어야 합니다:"
   ]
  },
  {
   "cell_type": "code",
   "execution_count": 17,
   "metadata": {},
   "outputs": [],
   "source": [
    "reset_graph()\n",
    "\n",
    "n_inputs = 28 * 28\n",
    "n_hidden1 = 300\n",
    "n_hidden2 = 150  # 코딩 유닛\n",
    "n_hidden3 = n_hidden1\n",
    "n_outputs = n_inputs\n",
    "\n",
    "learning_rate = 0.01\n",
    "l2_reg = 0.0005"
   ]
  },
  {
   "cell_type": "code",
   "execution_count": 18,
   "metadata": {},
   "outputs": [],
   "source": [
    "activation = tf.nn.elu\n",
    "regularizer = tf.contrib.layers.l2_regularizer(l2_reg)\n",
    "initializer = tf.variance_scaling_initializer()\n",
    "\n",
    "X = tf.placeholder(tf.float32, shape=[None, n_inputs])\n",
    "\n",
    "weights1_init = initializer([n_inputs, n_hidden1])\n",
    "weights2_init = initializer([n_hidden1, n_hidden2])\n",
    "\n",
    "weights1 = tf.Variable(weights1_init, dtype=tf.float32, name=\"weights1\")\n",
    "weights2 = tf.Variable(weights2_init, dtype=tf.float32, name=\"weights2\")\n",
    "weights3 = tf.transpose(weights2, name=\"weights3\")  # 가중치 묶기\n",
    "weights4 = tf.transpose(weights1, name=\"weights4\")  # 가중치 묶기\n",
    "\n",
    "biases1 = tf.Variable(tf.zeros(n_hidden1), name=\"biases1\")\n",
    "biases2 = tf.Variable(tf.zeros(n_hidden2), name=\"biases2\")\n",
    "biases3 = tf.Variable(tf.zeros(n_hidden3), name=\"biases3\")\n",
    "biases4 = tf.Variable(tf.zeros(n_outputs), name=\"biases4\")\n",
    "\n",
    "hidden1 = activation(tf.matmul(X, weights1) + biases1)\n",
    "hidden2 = activation(tf.matmul(hidden1, weights2) + biases2)\n",
    "hidden3 = activation(tf.matmul(hidden2, weights3) + biases3)\n",
    "outputs = tf.matmul(hidden3, weights4) + biases4\n",
    "\n",
    "reconstruction_loss = tf.reduce_mean(tf.square(outputs - X))\n",
    "reg_loss = regularizer(weights1) + regularizer(weights2)\n",
    "loss = reconstruction_loss + reg_loss\n",
    "\n",
    "optimizer = tf.train.AdamOptimizer(learning_rate)\n",
    "training_op = optimizer.minimize(loss)\n",
    "\n",
    "init = tf.global_variables_initializer()"
   ]
  },
  {
   "cell_type": "code",
   "execution_count": 19,
   "metadata": {},
   "outputs": [],
   "source": [
    "saver = tf.train.Saver()"
   ]
  },
  {
   "cell_type": "code",
   "execution_count": 20,
   "metadata": {},
   "outputs": [
    {
     "name": "stdout",
     "output_type": "stream",
     "text": [
      "0 훈련 MSE: 0.01781256\n",
      "1 훈련 MSE: 0.016505882\n",
      "2 훈련 MSE: 0.018104851\n",
      "3 훈련 MSE: 0.018025625\n",
      "4 훈련 MSE: 0.017612142\n"
     ]
    }
   ],
   "source": [
    "n_epochs = 5\n",
    "batch_size = 150\n",
    "\n",
    "with tf.Session() as sess:\n",
    "    init.run()\n",
    "    for epoch in range(n_epochs):\n",
    "        n_batches = len(X_train) // batch_size\n",
    "        for iteration in range(n_batches):\n",
    "            print(\"\\r{}%\".format(100 * iteration // n_batches), end=\"\")\n",
    "            sys.stdout.flush()\n",
    "            X_batch, y_batch = next(shuffle_batch(X_train, y_train, batch_size))\n",
    "            sess.run(training_op, feed_dict={X: X_batch})\n",
    "        loss_train = reconstruction_loss.eval(feed_dict={X: X_batch})\n",
    "        print(\"\\r{}\".format(epoch), \"훈련 MSE:\", loss_train)\n",
    "        saver.save(sess, \"./my_model_tying_weights.ckpt\")"
   ]
  },
  {
   "cell_type": "code",
   "execution_count": 21,
   "metadata": {},
   "outputs": [
    {
     "name": "stdout",
     "output_type": "stream",
     "text": [
      "INFO:tensorflow:Restoring parameters from ./my_model_tying_weights.ckpt\n"
     ]
    },
    {
     "data": {
      "image/png": "[encoded data removed]",
      "text/plain": [
       "<Figure size 576x432 with 4 Axes>"
      ]
     },
     "metadata": {
      "needs_background": "light"
     },
     "output_type": "display_data"
    }
   ],
   "source": [
    "show_reconstructed_digits(X, outputs, \"./my_model_tying_weights.ckpt\")"
   ]
  },
  {
   "cell_type": "markdown",
   "metadata": {},
   "source": [
    "## 여러 개의 그래프에서 오토인토더를 따로따로 훈련하기"
   ]
  },
  {
   "cell_type": "markdown",
   "metadata": {},
   "source": [
    "하나의 오토인코더를 따로따로 훈련하는 방법이 많이 있습니다. 첫 번째 방법은 각 오토인코더를 다른 그래프를 사용하여 훈련하는 것입니다. 그런 다음 이런 오토인코더의 가중치와 편향을 복사해 초깃값으로 지정해서 적층 오토인코더를 만듭니다."
   ]
  },
  {
   "cell_type": "markdown",
   "metadata": {},
   "source": [
    "하나의 오토인코더를 훈련하고 변환된 훈련 세트(즉, 은닉층의 출력)와 모델 파라미터를 반환하는 함수를 만들겠습니다."
   ]
  },
  {
   "cell_type": "code",
   "execution_count": 22,
   "metadata": {},
   "outputs": [],
   "source": [
    "reset_graph()\n",
    "\n",
    "from functools import partial\n",
    "\n",
    "def train_autoencoder(X_train, n_neurons, n_epochs, batch_size,\n",
    "                      learning_rate = 0.01, l2_reg = 0.0005, seed=42,\n",
    "                      hidden_activation=tf.nn.elu,\n",
    "                      output_activation=tf.nn.elu):\n",
    "    graph = tf.Graph()\n",
    "    with graph.as_default():\n",
    "        tf.set_random_seed(seed)\n",
    "\n",
    "        n_inputs = X_train.shape[1]\n",
    "\n",
    "        X = tf.placeholder(tf.float32, shape=[None, n_inputs])\n",
    "        \n",
    "        my_dense_layer = partial(\n",
    "            tf.layers.dense,\n",
    "            kernel_initializer=tf.variance_scaling_initializer(),\n",
    "            kernel_regularizer=tf.contrib.layers.l2_regularizer(l2_reg))\n",
    "\n",
    "        hidden = my_dense_layer(X, n_neurons, activation=hidden_activation, name=\"hidden\")\n",
    "        outputs = my_dense_layer(hidden, n_inputs, activation=output_activation, name=\"outputs\")\n",
    "\n",
    "        reconstruction_loss = tf.reduce_mean(tf.square(outputs - X))\n",
    "\n",
    "        reg_losses = tf.get_collection(tf.GraphKeys.REGULARIZATION_LOSSES)\n",
    "        loss = tf.add_n([reconstruction_loss] + reg_losses)\n",
    "\n",
    "        optimizer = tf.train.AdamOptimizer(learning_rate)\n",
    "        training_op = optimizer.minimize(loss)\n",
    "\n",
    "        init = tf.global_variables_initializer()\n",
    "\n",
    "    with tf.Session(graph=graph) as sess:\n",
    "        init.run()\n",
    "        for epoch in range(n_epochs):\n",
    "            n_batches = len(X_train) // batch_size\n",
    "            for iteration in range(n_batches):\n",
    "                print(\"\\r{}%\".format(100 * iteration // n_batches), end=\"\")\n",
    "                sys.stdout.flush()\n",
    "                indices = rnd.permutation(len(X_train))[:batch_size]\n",
    "                X_batch = X_train[indices]\n",
    "                sess.run(training_op, feed_dict={X: X_batch})\n",
    "            loss_train = reconstruction_loss.eval(feed_dict={X: X_batch})\n",
    "            print(\"\\r{}\".format(epoch), \"훈련 MSE:\", loss_train)\n",
    "        params = dict([(var.name, var.eval()) for var in tf.get_collection(tf.GraphKeys.TRAINABLE_VARIABLES)])\n",
    "        hidden_val = hidden.eval(feed_dict={X: X_train})\n",
    "        return hidden_val, params[\"hidden/kernel:0\"], params[\"hidden/bias:0\"], params[\"outputs/kernel:0\"], params[\"outputs/bias:0\"]"
   ]
  },
  {
   "cell_type": "markdown",
   "metadata": {},
   "source": [
    "이제 두 개의 오토인코더를 훈련시켜 보죠. 첫 번째는 훈련 데이터를 사용하고 두 번째는 첫 번째 오토인코더의 은닉층 출력을 사용해 훈련시킵니다:"
   ]
  },
  {
   "cell_type": "code",
   "execution_count": 23,
   "metadata": {},
   "outputs": [
    {
     "name": "stdout",
     "output_type": "stream",
     "text": [
      "0 훈련 MSE: 0.018396951\n",
      "1 훈련 MSE: 0.01769512\n",
      "2 훈련 MSE: 0.019602962\n",
      "3 훈련 MSE: 0.019349582\n",
      "0 훈련 MSE: 0.004570496\n",
      "1 훈련 MSE: 0.004802371\n",
      "2 훈련 MSE: 0.0047746883\n",
      "3 훈련 MSE: 0.004450074\n"
     ]
    }
   ],
   "source": [
    "hidden_output, W1, b1, W4, b4 = train_autoencoder(X_train, n_neurons=300, n_epochs=4, batch_size=150,\n",
    "                                                  output_activation=None)\n",
    "_, W2, b2, W3, b3 = train_autoencoder(hidden_output, n_neurons=150, n_epochs=4, batch_size=150)"
   ]
  },
  {
   "cell_type": "markdown",
   "metadata": {},
   "source": [
    "마지막으로 방금전 훈련한 오토인코더의 가중치와 편향을 재사용하여 적층 오토인코더를 만듭니다:"
   ]
  },
  {
   "cell_type": "code",
   "execution_count": 24,
   "metadata": {},
   "outputs": [],
   "source": [
    "reset_graph()\n",
    "\n",
    "n_inputs = 28*28\n",
    "\n",
    "X = tf.placeholder(tf.float32, shape=[None, n_inputs])\n",
    "hidden1 = tf.nn.elu(tf.matmul(X, W1) + b1)\n",
    "hidden2 = tf.nn.elu(tf.matmul(hidden1, W2) + b2)\n",
    "hidden3 = tf.nn.elu(tf.matmul(hidden2, W3) + b3)\n",
    "outputs = tf.matmul(hidden3, W4) + b4"
   ]
  },
  {
   "cell_type": "code",
   "execution_count": 25,
   "metadata": {},
   "outputs": [
    {
     "data": {
      "image/png": "[encoded data removed]",
      "text/plain": [
       "<Figure size 576x432 with 4 Axes>"
      ]
     },
     "metadata": {
      "needs_background": "light"
     },
     "output_type": "display_data"
    }
   ],
   "source": [
    "show_reconstructed_digits(X, outputs)"
   ]
  },
  {
   "cell_type": "markdown",
   "metadata": {},
   "source": [
    "## 하나의 그래프에서 오토인코더를 따로따로 훈련하기"
   ]
  },
  {
   "cell_type": "markdown",
   "metadata": {},
   "source": [
    "하나의 그래프를 사용하는 방법도 있습니다. 이 방법은 전체 적층 오토인코더를 위한 그래프를 만들지만 각 오토인코더를 독립적으로 훈련하기 위한 연산도 추가합니다. 단계 1은 맨 아래층과 맨 윗층을 훈련하고(즉, 첫 번째 오토인코더), 단계 2는 두 개의 가운데 층을 훈련합니다(즉, 두 번째 오토인코더)."
   ]
  },
  {
   "cell_type": "code",
   "execution_count": 26,
   "metadata": {},
   "outputs": [],
   "source": [
    "reset_graph()\n",
    "\n",
    "n_inputs = 28 * 28\n",
    "n_hidden1 = 300\n",
    "n_hidden2 = 150  # 코딩 유닛\n",
    "n_hidden3 = n_hidden1\n",
    "n_outputs = n_inputs\n",
    "\n",
    "learning_rate = 0.01\n",
    "l2_reg = 0.0001\n",
    "\n",
    "activation = tf.nn.elu\n",
    "regularizer = tf.contrib.layers.l2_regularizer(l2_reg)\n",
    "initializer = tf.variance_scaling_initializer()\n",
    "\n",
    "X = tf.placeholder(tf.float32, shape=[None, n_inputs])\n",
    "\n",
    "weights1_init = initializer([n_inputs, n_hidden1])\n",
    "weights2_init = initializer([n_hidden1, n_hidden2])\n",
    "weights3_init = initializer([n_hidden2, n_hidden3])\n",
    "weights4_init = initializer([n_hidden3, n_outputs])\n",
    "\n",
    "weights1 = tf.Variable(weights1_init, dtype=tf.float32, name=\"weights1\")\n",
    "weights2 = tf.Variable(weights2_init, dtype=tf.float32, name=\"weights2\")\n",
    "weights3 = tf.Variable(weights3_init, dtype=tf.float32, name=\"weights3\")\n",
    "weights4 = tf.Variable(weights4_init, dtype=tf.float32, name=\"weights4\")\n",
    "\n",
    "biases1 = tf.Variable(tf.zeros(n_hidden1), name=\"biases1\")\n",
    "biases2 = tf.Variable(tf.zeros(n_hidden2), name=\"biases2\")\n",
    "biases3 = tf.Variable(tf.zeros(n_hidden3), name=\"biases3\")\n",
    "biases4 = tf.Variable(tf.zeros(n_outputs), name=\"biases4\")\n",
    "\n",
    "hidden1 = activation(tf.matmul(X, weights1) + biases1)\n",
    "hidden2 = activation(tf.matmul(hidden1, weights2) + biases2)\n",
    "hidden3 = activation(tf.matmul(hidden2, weights3) + biases3)\n",
    "outputs = tf.matmul(hidden3, weights4) + biases4\n",
    "\n",
    "reconstruction_loss = tf.reduce_mean(tf.square(outputs - X))"
   ]
  },
  {
   "cell_type": "code",
   "execution_count": 27,
   "metadata": {},
   "outputs": [],
   "source": [
    "optimizer = tf.train.AdamOptimizer(learning_rate)\n",
    "\n",
    "with tf.name_scope(\"phase1\"):\n",
    "    phase1_outputs = tf.matmul(hidden1, weights4) + biases4  # hidden2와 hidden3 통과합니다\n",
    "    phase1_reconstruction_loss = tf.reduce_mean(tf.square(phase1_outputs - X))\n",
    "    phase1_reg_loss = regularizer(weights1) + regularizer(weights4)\n",
    "    phase1_loss = phase1_reconstruction_loss + phase1_reg_loss\n",
    "    phase1_training_op = optimizer.minimize(phase1_loss)\n",
    "\n",
    "with tf.name_scope(\"phase2\"):\n",
    "    phase2_reconstruction_loss = tf.reduce_mean(tf.square(hidden3 - hidden1))\n",
    "    phase2_reg_loss = regularizer(weights2) + regularizer(weights3)\n",
    "    phase2_loss = phase2_reconstruction_loss + phase2_reg_loss\n",
    "    train_vars = [weights2, biases2, weights3, biases3]\n",
    "    phase2_training_op = optimizer.minimize(phase2_loss, var_list=train_vars) # hidden1 동결"
   ]
  },
  {
   "cell_type": "code",
   "execution_count": 28,
   "metadata": {},
   "outputs": [],
   "source": [
    "init = tf.global_variables_initializer()\n",
    "saver = tf.train.Saver()"
   ]
  },
  {
   "cell_type": "code",
   "execution_count": 29,
   "metadata": {},
   "outputs": [
    {
     "name": "stdout",
     "output_type": "stream",
     "text": [
      "훈련 단계 #1\n",
      "0 훈련 MSE: 0.007932797\n",
      "1 훈련 MSE: 0.007340618\n",
      "2 훈련 MSE: 0.0077496963\n",
      "3 훈련 MSE: 0.0077196457\n",
      "훈련 단계 #2\n",
      "0 훈련 MSE: 0.15799418\n",
      "1 훈련 MSE: 0.0056499084\n",
      "2 훈련 MSE: 0.0029631287\n",
      "3 훈련 MSE: 0.002294561\n",
      "테스트 MSE: 0.009827301\n"
     ]
    }
   ],
   "source": [
    "training_ops = [phase1_training_op, phase2_training_op]\n",
    "reconstruction_losses = [phase1_reconstruction_loss, phase2_reconstruction_loss]\n",
    "n_epochs = [4, 4]\n",
    "batch_sizes = [150, 150]\n",
    "\n",
    "with tf.Session() as sess:\n",
    "    init.run()\n",
    "    for phase in range(2):\n",
    "        print(\"훈련 단계 #{}\".format(phase + 1))\n",
    "        for epoch in range(n_epochs[phase]):\n",
    "            n_batches = len(X_train) // batch_sizes[phase]\n",
    "            for iteration in range(n_batches):\n",
    "                print(\"\\r{}%\".format(100 * iteration // n_batches), end=\"\")\n",
    "                sys.stdout.flush()\n",
    "                X_batch, y_batch = next(shuffle_batch(X_train, y_train, batch_sizes[phase]))\n",
    "                sess.run(training_ops[phase], feed_dict={X: X_batch})\n",
    "            loss_train = reconstruction_losses[phase].eval(feed_dict={X: X_batch})\n",
    "            print(\"\\r{}\".format(epoch), \"훈련 MSE:\", loss_train)\n",
    "            saver.save(sess, \"./my_model_one_at_a_time.ckpt\")\n",
    "    loss_test = reconstruction_loss.eval(feed_dict={X: X_test})\n",
    "    print(\"테스트 MSE:\", loss_test)"
   ]
  },
  {
   "cell_type": "markdown",
   "metadata": {},
   "source": [
    "## 동결 층의 출력을 캐싱하기"
   ]
  },
  {
   "cell_type": "code",
   "execution_count": 30,
   "metadata": {
    "scrolled": true
   },
   "outputs": [
    {
     "name": "stdout",
     "output_type": "stream",
     "text": [
      "훈련 단계 #1\n",
      "0 훈련 MSE: 0.008147027\n",
      "1 훈련 MSE: 0.007710268\n",
      "2 훈련 MSE: 0.007226935\n",
      "3 훈련 MSE: 0.007944854\n",
      "훈련 단계 #2\n",
      "0 훈련 MSE: 0.37764704\n",
      "1 훈련 MSE: 0.006353018\n",
      "2 훈련 MSE: 0.003075222\n",
      "3 훈련 MSE: 0.0023977566\n",
      "테스트 MSE: 0.009859639\n"
     ]
    }
   ],
   "source": [
    "training_ops = [phase1_training_op, phase2_training_op]\n",
    "reconstruction_losses = [phase1_reconstruction_loss, phase2_reconstruction_loss]\n",
    "n_epochs = [4, 4]\n",
    "batch_sizes = [150, 150]\n",
    "\n",
    "with tf.Session() as sess:\n",
    "    init.run()\n",
    "    for phase in range(2):\n",
    "        print(\"훈련 단계 #{}\".format(phase + 1))\n",
    "        if phase == 1:\n",
    "            hidden1_cache = hidden1.eval(feed_dict={X: X_train})\n",
    "        for epoch in range(n_epochs[phase]):\n",
    "            n_batches = len(X_train) // batch_sizes[phase]\n",
    "            for iteration in range(n_batches):\n",
    "                print(\"\\r{}%\".format(100 * iteration // n_batches), end=\"\")\n",
    "                sys.stdout.flush()\n",
    "                if phase == 1:\n",
    "                    indices = rnd.permutation(len(X_train))\n",
    "                    hidden1_batch = hidden1_cache[indices[:batch_sizes[phase]]]\n",
    "                    feed_dict = {hidden1: hidden1_batch}\n",
    "                    sess.run(training_ops[phase], feed_dict=feed_dict)\n",
    "                else:\n",
    "                    X_batch, y_batch = next(shuffle_batch(X_train, y_train, batch_sizes[phase]))\n",
    "                    feed_dict = {X: X_batch}\n",
    "                    sess.run(training_ops[phase], feed_dict=feed_dict)\n",
    "            loss_train = reconstruction_losses[phase].eval(feed_dict=feed_dict)\n",
    "            print(\"\\r{}\".format(epoch), \"훈련 MSE:\", loss_train)\n",
    "            saver.save(sess, \"./my_model_cache_frozen.ckpt\")\n",
    "    loss_test = reconstruction_loss.eval(feed_dict={X: X_test})\n",
    "    print(\"테스트 MSE:\", loss_test)"
   ]
  },
  {
   "cell_type": "markdown",
   "metadata": {},
   "source": [
    "## 재구성 시각화"
   ]
  },
  {
   "cell_type": "code",
   "execution_count": 31,
   "metadata": {},
   "outputs": [
    {
     "name": "stdout",
     "output_type": "stream",
     "text": [
      "INFO:tensorflow:Restoring parameters from ./my_model_one_at_a_time.ckpt\n"
     ]
    },
    {
     "data": {
      "image/png": "[encoded data removed]",
      "text/plain": [
       "<Figure size 432x288 with 4 Axes>"
      ]
     },
     "metadata": {
      "needs_background": "light"
     },
     "output_type": "display_data"
    }
   ],
   "source": [
    "n_test_digits = 2\n",
    "# X_test = mnist.test.images[:n_test_digits]\n",
    "\n",
    "with tf.Session() as sess:\n",
    "    saver.restore(sess, \"./my_model_one_at_a_time.ckpt\") # not shown in the book\n",
    "    outputs_val = outputs.eval(feed_dict={X: X_test[:n_test_digits]})\n",
    "\n",
    "def plot_image(image, shape=[28, 28]):\n",
    "    plt.imshow(image.reshape(shape), cmap=\"Greys\", interpolation=\"nearest\")\n",
    "    plt.axis(\"off\")\n",
    "\n",
    "for digit_index in range(n_test_digits):\n",
    "    plt.subplot(n_test_digits, 2, digit_index * 2 + 1)\n",
    "    plot_image(X_test[digit_index])\n",
    "    plt.subplot(n_test_digits, 2, digit_index * 2 + 2)\n",
    "    plot_image(outputs_val[digit_index])"
   ]
  },
  {
   "cell_type": "markdown",
   "metadata": {},
   "source": [
    "## 특성 시각화"
   ]
  },
  {
   "cell_type": "code",
   "execution_count": 32,
   "metadata": {},
   "outputs": [
    {
     "name": "stdout",
     "output_type": "stream",
     "text": [
      "INFO:tensorflow:Restoring parameters from ./my_model_one_at_a_time.ckpt\n"
     ]
    },
    {
     "data": {
      "image/png": "[encoded data removed]",
      "text/plain": [
       "<Figure size 432x288 with 5 Axes>"
      ]
     },
     "metadata": {
      "needs_background": "light"
     },
     "output_type": "display_data"
    }
   ],
   "source": [
    "with tf.Session() as sess:\n",
    "    saver.restore(sess, \"./my_model_one_at_a_time.ckpt\") # 책에는 없음\n",
    "    weights1_val = weights1.eval()\n",
    "\n",
    "for i in range(5):\n",
    "    plt.subplot(1, 5, i + 1)\n",
    "    plot_image(weights1_val.T[i])\n",
    "\n",
    "save_fig(\"extracted_features_plot\") # 책에는 없음\n",
    "plt.show()                          # 책에는 없음"
   ]
  },
  {
   "cell_type": "markdown",
   "metadata": {},
   "source": [
    "# 비지도 사전훈련"
   ]
  },
  {
   "cell_type": "markdown",
   "metadata": {},
   "source": [
    "MNIST 분류 문제를 위한 작은 신경망을 만들겠습니다:"
   ]
  },
  {
   "cell_type": "code",
   "execution_count": 33,
   "metadata": {},
   "outputs": [],
   "source": [
    "reset_graph()\n",
    "\n",
    "n_inputs = 28 * 28\n",
    "n_hidden1 = 300\n",
    "n_hidden2 = 150\n",
    "n_outputs = 10\n",
    "\n",
    "learning_rate = 0.01\n",
    "l2_reg = 0.0005\n",
    "\n",
    "activation = tf.nn.elu\n",
    "regularizer = tf.contrib.layers.l2_regularizer(l2_reg)\n",
    "initializer = tf.variance_scaling_initializer()\n",
    "\n",
    "X = tf.placeholder(tf.float32, shape=[None, n_inputs])\n",
    "y = tf.placeholder(tf.int32, shape=[None])\n",
    "\n",
    "weights1_init = initializer([n_inputs, n_hidden1])\n",
    "weights2_init = initializer([n_hidden1, n_hidden2])\n",
    "weights3_init = initializer([n_hidden2, n_outputs])\n",
    "\n",
    "weights1 = tf.Variable(weights1_init, dtype=tf.float32, name=\"weights1\")\n",
    "weights2 = tf.Variable(weights2_init, dtype=tf.float32, name=\"weights2\")\n",
    "weights3 = tf.Variable(weights3_init, dtype=tf.float32, name=\"weights3\")\n",
    "\n",
    "biases1 = tf.Variable(tf.zeros(n_hidden1), name=\"biases1\")\n",
    "biases2 = tf.Variable(tf.zeros(n_hidden2), name=\"biases2\")\n",
    "biases3 = tf.Variable(tf.zeros(n_outputs), name=\"biases3\")\n",
    "\n",
    "hidden1 = activation(tf.matmul(X, weights1) + biases1)\n",
    "hidden2 = activation(tf.matmul(hidden1, weights2) + biases2)\n",
    "logits = tf.matmul(hidden2, weights3) + biases3\n",
    "\n",
    "cross_entropy = tf.nn.sparse_softmax_cross_entropy_with_logits(labels=y, logits=logits)\n",
    "reg_loss = regularizer(weights1) + regularizer(weights2) + regularizer(weights3)\n",
    "loss = cross_entropy + reg_loss\n",
    "optimizer = tf.train.AdamOptimizer(learning_rate)\n",
    "training_op = optimizer.minimize(loss)\n",
    "\n",
    "correct = tf.nn.in_top_k(logits, y, 1)\n",
    "accuracy = tf.reduce_mean(tf.cast(correct, tf.float32))\n",
    "\n",
    "init = tf.global_variables_initializer()\n",
    "pretrain_saver = tf.train.Saver([weights1, weights2, biases1, biases2])\n",
    "saver = tf.train.Saver()"
   ]
  },
  {
   "cell_type": "markdown",
   "metadata": {},
   "source": [
    "(사전훈련 없이)평범하게 훈련시킵니다:"
   ]
  },
  {
   "cell_type": "code",
   "execution_count": 34,
   "metadata": {},
   "outputs": [
    {
     "name": "stdout",
     "output_type": "stream",
     "text": [
      "0 검증 세트 정확도: 0.93333334 테스트 정확도: 0.9191\n",
      "1 검증 세트 정확도: 0.97333336 테스트 정확도: 0.9371\n",
      "2 검증 세트 정확도: 0.9866667 테스트 정확도: 0.9318\n",
      "3 검증 세트 정확도: 0.97333336 테스트 정확도: 0.9403\n"
     ]
    }
   ],
   "source": [
    "n_epochs = 4\n",
    "batch_size = 150\n",
    "n_labeled_instances = 20000\n",
    "\n",
    "with tf.Session() as sess:\n",
    "    init.run()\n",
    "    for epoch in range(n_epochs):\n",
    "        n_batches = n_labeled_instances // batch_size\n",
    "        for iteration in range(n_batches):\n",
    "            print(\"\\r{}%\".format(100 * iteration // n_batches), end=\"\")\n",
    "            sys.stdout.flush()\n",
    "            indices = rnd.permutation(n_labeled_instances)[:batch_size]\n",
    "            X_batch, y_batch = X_train[indices], y_train[indices]\n",
    "            sess.run(training_op, feed_dict={X: X_batch, y: y_batch})\n",
    "        accuracy_val = accuracy.eval(feed_dict={X: X_batch, y: y_batch})\n",
    "        print(\"\\r{}\".format(epoch), \"검증 세트 정확도:\", accuracy_val, end=\" \")\n",
    "        saver.save(sess, \"./my_model_supervised.ckpt\")\n",
    "        test_val = accuracy.eval(feed_dict={X: X_test, y: y_test})\n",
    "        print(\"테스트 정확도:\", test_val)"
   ]
  },
  {
   "cell_type": "markdown",
   "metadata": {},
   "source": [
    "사전 훈련된 오토인코더의 첫 두개의 층을 재사용해 보겠습니다:"
   ]
  },
  {
   "cell_type": "code",
   "execution_count": 35,
   "metadata": {},
   "outputs": [
    {
     "name": "stdout",
     "output_type": "stream",
     "text": [
      "INFO:tensorflow:Restoring parameters from ./my_model_cache_frozen.ckpt\n",
      "0 훈련 정확도: 0.9533333\t테스트 정확도: 0.9195\n",
      "1 훈련 정확도: 0.96\t테스트 정확도: 0.9419\n",
      "2 훈련 정확도: 0.97333336\t테스트 정확도: 0.9378\n",
      "3 훈련 정확도: 0.9866667\t테스트 정확도: 0.9411\n"
     ]
    }
   ],
   "source": [
    "n_epochs = 4\n",
    "batch_size = 150\n",
    "n_labeled_instances = 20000\n",
    "\n",
    "#training_op = optimizer.minimize(loss, var_list=[weights3, biases3])  # layers 1와 2를 동결 (선택사항)\n",
    "\n",
    "with tf.Session() as sess:\n",
    "    init.run()\n",
    "    pretrain_saver.restore(sess, \"./my_model_cache_frozen.ckpt\")\n",
    "    for epoch in range(n_epochs):\n",
    "        n_batches = n_labeled_instances // batch_size\n",
    "        for iteration in range(n_batches):\n",
    "            print(\"\\r{}%\".format(100 * iteration // n_batches), end=\"\")\n",
    "            sys.stdout.flush()\n",
    "            indices = rnd.permutation(n_labeled_instances)[:batch_size]\n",
    "            X_batch, y_batch = X_train[indices], y_train[indices]\n",
    "            sess.run(training_op, feed_dict={X: X_batch, y: y_batch})\n",
    "        accuracy_val = accuracy.eval(feed_dict={X: X_batch, y: y_batch})\n",
    "        print(\"\\r{}\".format(epoch), \"훈련 정확도:\", accuracy_val, end=\"\\t\")\n",
    "        saver.save(sess, \"./my_model_supervised_pretrained.ckpt\")\n",
    "        test_val = accuracy.eval(feed_dict={X: X_test, y: y_test})\n",
    "        print(\"테스트 정확도:\", test_val)"
   ]
  },
  {
   "cell_type": "markdown",
   "metadata": {},
   "source": [
    "# 적층 잡음제거 오토인코더"
   ]
  },
  {
   "cell_type": "markdown",
   "metadata": {},
   "source": [
    "가우시안 잡음을 사용합니다:"
   ]
  },
  {
   "cell_type": "code",
   "execution_count": 36,
   "metadata": {},
   "outputs": [],
   "source": [
    "reset_graph()\n",
    "\n",
    "n_inputs = 28 * 28\n",
    "n_hidden1 = 300\n",
    "n_hidden2 = 150  # 코딩 유닛\n",
    "n_hidden3 = n_hidden1\n",
    "n_outputs = n_inputs\n",
    "\n",
    "learning_rate = 0.01"
   ]
  },
  {
   "cell_type": "code",
   "execution_count": 37,
   "metadata": {},
   "outputs": [],
   "source": [
    "noise_level = 1.0\n",
    "\n",
    "X = tf.placeholder(tf.float32, shape=[None, n_inputs])\n",
    "X_noisy = X + noise_level * tf.random_normal(tf.shape(X))\n",
    "\n",
    "hidden1 = tf.layers.dense(X_noisy, n_hidden1, activation=tf.nn.relu,\n",
    "                          name=\"hidden1\")\n",
    "hidden2 = tf.layers.dense(hidden1, n_hidden2, activation=tf.nn.relu, # 책에는 없음\n",
    "                          name=\"hidden2\")                            # 책에는 없음\n",
    "hidden3 = tf.layers.dense(hidden2, n_hidden3, activation=tf.nn.relu, # 책에는 없음\n",
    "                          name=\"hidden3\")                            # 책에는 없음\n",
    "outputs = tf.layers.dense(hidden3, n_outputs, name=\"outputs\")        # 책에는 없음\n",
    "\n",
    "reconstruction_loss = tf.reduce_mean(tf.square(outputs - X)) # MSE"
   ]
  },
  {
   "cell_type": "code",
   "execution_count": 38,
   "metadata": {},
   "outputs": [],
   "source": [
    "optimizer = tf.train.AdamOptimizer(learning_rate)\n",
    "training_op = optimizer.minimize(reconstruction_loss)\n",
    "    \n",
    "init = tf.global_variables_initializer()\n",
    "saver = tf.train.Saver()"
   ]
  },
  {
   "cell_type": "code",
   "execution_count": 39,
   "metadata": {},
   "outputs": [
    {
     "name": "stdout",
     "output_type": "stream",
     "text": [
      "0 훈련 MSE: 0.04385075\n",
      "1 훈련 MSE: 0.038675435\n",
      "2 훈련 MSE: 0.043276038\n",
      "3 훈련 MSE: 0.04240268\n",
      "4 훈련 MSE: 0.040410202\n",
      "5 훈련 MSE: 0.04049194\n",
      "6 훈련 MSE: 0.042047158\n",
      "7 훈련 MSE: 0.040202964\n",
      "8 훈련 MSE: 0.042247713\n",
      "9 훈련 MSE: 0.04109042\n"
     ]
    }
   ],
   "source": [
    "n_epochs = 10\n",
    "batch_size = 150\n",
    "\n",
    "with tf.Session() as sess:\n",
    "    init.run()\n",
    "    for epoch in range(n_epochs):\n",
    "        n_batches = len(X_train) // batch_size\n",
    "        for iteration in range(n_batches):\n",
    "            print(\"\\r{}%\".format(100 * iteration // n_batches), end=\"\")\n",
    "            sys.stdout.flush()\n",
    "            X_batch, y_batch = next(shuffle_batch(X_train, y_train, batch_size))\n",
    "            sess.run(training_op, feed_dict={X: X_batch})\n",
    "        loss_train = reconstruction_loss.eval(feed_dict={X: X_batch})\n",
    "        print(\"\\r{}\".format(epoch), \"훈련 MSE:\", loss_train)\n",
    "        saver.save(sess, \"./my_model_stacked_denoising_gaussian.ckpt\")"
   ]
  },
  {
   "cell_type": "markdown",
   "metadata": {},
   "source": [
    "드롭아웃을 사용합니다:"
   ]
  },
  {
   "cell_type": "code",
   "execution_count": 40,
   "metadata": {},
   "outputs": [],
   "source": [
    "reset_graph()\n",
    "\n",
    "n_inputs = 28 * 28\n",
    "n_hidden1 = 300\n",
    "n_hidden2 = 150  # 코딩 유닛\n",
    "n_hidden3 = n_hidden1\n",
    "n_outputs = n_inputs\n",
    "\n",
    "learning_rate = 0.01"
   ]
  },
  {
   "cell_type": "code",
   "execution_count": 41,
   "metadata": {},
   "outputs": [],
   "source": [
    "dropout_rate = 0.3\n",
    "\n",
    "training = tf.placeholder_with_default(False, shape=(), name='training')\n",
    "\n",
    "X = tf.placeholder(tf.float32, shape=[None, n_inputs])\n",
    "X_drop = tf.layers.dropout(X, dropout_rate, training=training)\n",
    "\n",
    "hidden1 = tf.layers.dense(X_drop, n_hidden1, activation=tf.nn.relu,\n",
    "                          name=\"hidden1\")\n",
    "hidden2 = tf.layers.dense(hidden1, n_hidden2, activation=tf.nn.relu, # 책에는 없음\n",
    "                          name=\"hidden2\")                            # 책에는 없음\n",
    "hidden3 = tf.layers.dense(hidden2, n_hidden3, activation=tf.nn.relu, # 책에는 없음\n",
    "                          name=\"hidden3\")                            # 책에는 없음\n",
    "outputs = tf.layers.dense(hidden3, n_outputs, name=\"outputs\")        # 책에는 없음\n",
    "\n",
    "reconstruction_loss = tf.reduce_mean(tf.square(outputs - X)) # MSE"
   ]
  },
  {
   "cell_type": "code",
   "execution_count": 42,
   "metadata": {},
   "outputs": [],
   "source": [
    "optimizer = tf.train.AdamOptimizer(learning_rate)\n",
    "training_op = optimizer.minimize(reconstruction_loss)\n",
    "    \n",
    "init = tf.global_variables_initializer()\n",
    "saver = tf.train.Saver()"
   ]
  },
  {
   "cell_type": "code",
   "execution_count": 43,
   "metadata": {},
   "outputs": [
    {
     "name": "stdout",
     "output_type": "stream",
     "text": [
      "0 훈련 MSE: 0.035100453\n",
      "1 훈련 MSE: 0.02704241\n",
      "2 훈련 MSE: 0.029439723\n",
      "3 훈련 MSE: 0.027838977\n",
      "4 훈련 MSE: 0.026804328\n",
      "5 훈련 MSE: 0.026191032\n",
      "6 훈련 MSE: 0.027304877\n",
      "7 훈련 MSE: 0.025925625\n",
      "8 훈련 MSE: 0.027462162\n",
      "9 훈련 MSE: 0.028204424\n"
     ]
    }
   ],
   "source": [
    "n_epochs = 10\n",
    "batch_size = 150\n",
    "\n",
    "with tf.Session() as sess:\n",
    "    init.run()\n",
    "    for epoch in range(n_epochs):\n",
    "        n_batches = len(X_train) // batch_size\n",
    "        for iteration in range(n_batches):\n",
    "            print(\"\\r{}%\".format(100 * iteration // n_batches), end=\"\")\n",
    "            sys.stdout.flush()\n",
    "            X_batch, y_batch = next(shuffle_batch(X_train, y_train, batch_size))\n",
    "            sess.run(training_op, feed_dict={X: X_batch, training: True})\n",
    "        loss_train = reconstruction_loss.eval(feed_dict={X: X_batch})\n",
    "        print(\"\\r{}\".format(epoch), \"훈련 MSE:\", loss_train)\n",
    "        saver.save(sess, \"./my_model_stacked_denoising_dropout.ckpt\")"
   ]
  },
  {
   "cell_type": "code",
   "execution_count": 44,
   "metadata": {},
   "outputs": [
    {
     "name": "stdout",
     "output_type": "stream",
     "text": [
      "INFO:tensorflow:Restoring parameters from ./my_model_stacked_denoising_dropout.ckpt\n"
     ]
    },
    {
     "data": {
      "image/png": "[encoded data removed]",
      "text/plain": [
       "<Figure size 576x432 with 4 Axes>"
      ]
     },
     "metadata": {
      "needs_background": "light"
     },
     "output_type": "display_data"
    }
   ],
   "source": [
    "show_reconstructed_digits(X, outputs, \"./my_model_stacked_denoising_dropout.ckpt\")"
   ]
  },
  {
   "cell_type": "markdown",
   "metadata": {},
   "source": [
    "# 희소 오토인코더"
   ]
  },
  {
   "cell_type": "code",
   "execution_count": 45,
   "metadata": {},
   "outputs": [
    {
     "data": {
      "image/png": "[encoded data removed]",
      "text/plain": [
       "<Figure size 432x288 with 1 Axes>"
      ]
     },
     "metadata": {
      "needs_background": "light"
     },
     "output_type": "display_data"
    }
   ],
   "source": [
    "p = 0.1\n",
    "q = np.linspace(0.001, 0.999, 500)\n",
    "kl_div = p * np.log(p / q) + (1 - p) * np.log((1 - p) / (1 - q))\n",
    "mse = (p - q)**2\n",
    "plt.plot([p, p], [0, 0.3], \"k:\")\n",
    "plt.text(0.05, 0.32, \"목표 희소\", fontsize=14)\n",
    "plt.plot(q, kl_div, \"b-\", label=\"쿨백 라이블러 발산\")\n",
    "plt.plot(q, mse, \"r--\", label=\"MSE\")\n",
    "plt.legend(loc=\"upper left\")\n",
    "plt.xlabel(\"실제 희소\")\n",
    "plt.ylabel(\"비용\", rotation=0)\n",
    "plt.axis([0, 1, 0, 0.95])\n",
    "save_fig(\"sparsity_loss_plot\")"
   ]
  },
  {
   "cell_type": "code",
   "execution_count": 46,
   "metadata": {},
   "outputs": [],
   "source": [
    "reset_graph()\n",
    "\n",
    "n_inputs = 28 * 28\n",
    "n_hidden1 = 1000  # 희소 코딩 유닛\n",
    "n_outputs = n_inputs"
   ]
  },
  {
   "cell_type": "code",
   "execution_count": 47,
   "metadata": {},
   "outputs": [],
   "source": [
    "def kl_divergence(p, q):\n",
    "    # 쿨백 라이블러 발산\n",
    "    return p * tf.log(p / q) + (1 - p) * tf.log((1 - p) / (1 - q))\n",
    "\n",
    "learning_rate = 0.01\n",
    "sparsity_target = 0.1\n",
    "sparsity_weight = 0.2\n",
    "\n",
    "X = tf.placeholder(tf.float32, shape=[None, n_inputs])            # 책에는 없음\n",
    "\n",
    "hidden1 = tf.layers.dense(X, n_hidden1, activation=tf.nn.sigmoid) # 책에는 없음\n",
    "outputs = tf.layers.dense(hidden1, n_outputs)                     # 책에는 없음\n",
    "\n",
    "hidden1_mean = tf.reduce_mean(hidden1, axis=0) # 배치 평균\n",
    "sparsity_loss = tf.reduce_sum(kl_divergence(sparsity_target, hidden1_mean))\n",
    "reconstruction_loss = tf.reduce_mean(tf.square(outputs - X)) # MSE\n",
    "loss = reconstruction_loss + sparsity_weight * sparsity_loss\n",
    "\n",
    "optimizer = tf.train.AdamOptimizer(learning_rate)\n",
    "training_op = optimizer.minimize(loss)"
   ]
  },
  {
   "cell_type": "code",
   "execution_count": 48,
   "metadata": {},
   "outputs": [],
   "source": [
    "init = tf.global_variables_initializer()\n",
    "saver = tf.train.Saver()"
   ]
  },
  {
   "cell_type": "code",
   "execution_count": 49,
   "metadata": {},
   "outputs": [
    {
     "name": "stdout",
     "output_type": "stream",
     "text": [
      "0 훈련 MSE: 0.13764463 \t희소 손실: 0.9086765 \t전체 손실: 0.31937993\n",
      "1 훈련 MSE: 0.059780527 \t희소 손실: 0.023853995 \t전체 손실: 0.06455132\n",
      "2 훈련 MSE: 0.05259748 \t희소 손실: 0.028877134 \t전체 손실: 0.058372907\n",
      "3 훈련 MSE: 0.05017224 \t희소 손실: 0.19674383 \t전체 손실: 0.089521006\n",
      "4 훈련 MSE: 0.04457513 \t희소 손실: 0.007094749 \t전체 손실: 0.045994077\n",
      "5 훈련 MSE: 0.03982869 \t희소 손실: 0.35642096 \t전체 손실: 0.11111289\n",
      "6 훈련 MSE: 0.03850078 \t희소 손실: 0.04891961 \t전체 손실: 0.048284702\n",
      "7 훈련 MSE: 0.03621183 \t희소 손실: 0.02347766 \t전체 손실: 0.04090736\n",
      "8 훈련 MSE: 0.033634793 \t희소 손실: 0.057288945 \t전체 손실: 0.045092583\n",
      "9 훈련 MSE: 0.030880695 \t희소 손실: 0.042791534 \t전체 손실: 0.039439\n",
      "10 훈련 MSE: 0.028282983 \t희소 손실: 0.3226179 \t전체 손실: 0.09280656\n",
      "11 훈련 MSE: 0.02501558 \t희소 손실: 0.030905204 \t전체 손실: 0.03119662\n",
      "12 훈련 MSE: 0.023248762 \t희소 손실: 0.088720515 \t전체 손실: 0.040992863\n",
      "13 훈련 MSE: 0.021769173 \t희소 손실: 0.066301174 \t전체 손실: 0.035029408\n",
      "14 훈련 MSE: 0.022006068 \t희소 손실: 0.114732504 \t전체 손실: 0.04495257\n",
      "15 훈련 MSE: 0.020363854 \t희소 손실: 0.047968917 \t전체 손실: 0.029957637\n",
      "16 훈련 MSE: 0.017985545 \t희소 손실: 0.18309243 \t전체 손실: 0.05460403\n",
      "17 훈련 MSE: 0.018661918 \t희소 손실: 0.02908982 \t전체 손실: 0.024479883\n",
      "18 훈련 MSE: 0.017803263 \t희소 손실: 0.23517045 \t전체 손실: 0.06483735\n",
      "19 훈련 MSE: 0.017381176 \t희소 손실: 0.02494629 \t전체 손실: 0.022370435\n",
      "20 훈련 MSE: 0.017425468 \t희소 손실: 0.08669652 \t전체 손실: 0.034764774\n",
      "21 훈련 MSE: 0.016189657 \t희소 손실: 0.04122418 \t전체 손실: 0.024434494\n",
      "22 훈련 MSE: 0.016698195 \t희소 손실: 0.049754698 \t전체 손실: 0.026649134\n",
      "23 훈련 MSE: 0.015898876 \t희소 손실: 0.055088803 \t전체 손실: 0.026916638\n",
      "24 훈련 MSE: 0.01725482 \t희소 손실: 0.077819064 \t전체 손실: 0.032818634\n",
      "25 훈련 MSE: 0.015573325 \t희소 손실: 0.088518694 \t전체 손실: 0.033277065\n",
      "26 훈련 MSE: 0.0143121695 \t희소 손실: 0.07115996 \t전체 손실: 0.028544161\n",
      "27 훈련 MSE: 0.013452826 \t희소 손실: 0.039496183 \t전체 손실: 0.021352064\n",
      "28 훈련 MSE: 0.0141818 \t희소 손실: 0.03427351 \t전체 손실: 0.021036502\n",
      "29 훈련 MSE: 0.014233899 \t희소 손실: 0.09179033 \t전체 손실: 0.032591965\n",
      "30 훈련 MSE: 0.015912354 \t희소 손실: 0.08804653 \t전체 손실: 0.03352166\n",
      "31 훈련 MSE: 0.014909096 \t희소 손실: 0.09870035 \t전체 손실: 0.034649167\n",
      "32 훈련 MSE: 0.012845987 \t희소 손실: 0.049285952 \t전체 손실: 0.022703178\n",
      "33 훈련 MSE: 0.013661297 \t희소 손실: 0.090846494 \t전체 손실: 0.031830594\n",
      "34 훈련 MSE: 0.013174696 \t희소 손실: 0.04195767 \t전체 손실: 0.02156623\n",
      "35 훈련 MSE: 0.013076461 \t희소 손실: 0.03809558 \t전체 손실: 0.020695576\n",
      "36 훈련 MSE: 0.013874387 \t희소 손실: 0.053887345 \t전체 손실: 0.024651855\n",
      "37 훈련 MSE: 0.014134641 \t희소 손실: 0.08780291 \t전체 손실: 0.031695224\n",
      "38 훈련 MSE: 0.012819663 \t희소 손실: 0.23281232 \t전체 손실: 0.059382126\n",
      "39 훈련 MSE: 0.012348056 \t희소 손실: 0.044043824 \t전체 손실: 0.021156821\n",
      "40 훈련 MSE: 0.012252703 \t희소 손실: 0.13875337 \t전체 손실: 0.040003378\n",
      "41 훈련 MSE: 0.012996034 \t희소 손실: 0.124483034 \t전체 손실: 0.03789264\n",
      "42 훈련 MSE: 0.01273182 \t희소 손실: 0.052208148 \t전체 손실: 0.023173451\n",
      "43 훈련 MSE: 0.012437585 \t희소 손실: 0.1500474 \t전체 손실: 0.042447068\n",
      "44 훈련 MSE: 0.013994322 \t희소 손실: 0.086158365 \t전체 손실: 0.031225994\n",
      "45 훈련 MSE: 0.013336391 \t희소 손실: 0.18166305 \t전체 손실: 0.049669\n",
      "46 훈련 MSE: 0.012504965 \t희소 손실: 0.1785204 \t전체 손실: 0.048209045\n",
      "47 훈련 MSE: 0.013035355 \t희소 손실: 0.13480711 \t전체 손실: 0.039996777\n",
      "48 훈련 MSE: 0.01226621 \t희소 손실: 0.07756764 \t전체 손실: 0.027779737\n",
      "49 훈련 MSE: 0.013177202 \t희소 손실: 0.0943835 \t전체 손실: 0.032053903\n",
      "50 훈련 MSE: 0.011335693 \t희소 손실: 0.055621568 \t전체 손실: 0.022460006\n",
      "51 훈련 MSE: 0.011653448 \t희소 손실: 0.18031727 \t전체 손실: 0.047716904\n",
      "52 훈련 MSE: 0.011956122 \t희소 손실: 0.056386903 \t전체 손실: 0.023233503\n",
      "53 훈련 MSE: 0.011858154 \t희소 손실: 0.09703188 \t전체 손실: 0.03126453\n",
      "54 훈련 MSE: 0.011784158 \t희소 손실: 0.083306365 \t전체 손실: 0.02844543\n",
      "55 훈련 MSE: 0.0119370725 \t희소 손실: 0.15825352 \t전체 손실: 0.043587774\n",
      "56 훈련 MSE: 0.012403167 \t희소 손실: 0.18447715 \t전체 손실: 0.0492986\n",
      "57 훈련 MSE: 0.012061279 \t희소 손실: 0.14881416 \t전체 손실: 0.04182411\n",
      "58 훈련 MSE: 0.01303043 \t희소 손실: 0.20365249 \t전체 손실: 0.05376093\n",
      "59 훈련 MSE: 0.01565508 \t희소 손실: 0.15615714 \t전체 손실: 0.046886507\n",
      "60 훈련 MSE: 0.012485351 \t희소 손실: 0.25863233 \t전체 손실: 0.064211816\n",
      "61 훈련 MSE: 0.016012717 \t희소 손실: 0.9596349 \t전체 손실: 0.2079397\n",
      "62 훈련 MSE: 0.017856726 \t희소 손실: 0.20042379 \t전체 손실: 0.05794149\n",
      "63 훈련 MSE: 0.015785798 \t희소 손실: 0.558334 \t전체 손실: 0.1274526\n",
      "64 훈련 MSE: 0.013801845 \t희소 손실: 0.8486644 \t전체 손실: 0.18353473\n",
      "65 훈련 MSE: 0.013055736 \t희소 손실: 0.14239179 \t전체 손실: 0.041534096\n",
      "66 훈련 MSE: 0.015322301 \t희소 손실: 1.1469707 \t전체 손실: 0.24471645\n",
      "67 훈련 MSE: 0.0119367065 \t희소 손실: 0.26370236 \t전체 손실: 0.06467718\n",
      "68 훈련 MSE: 0.016675962 \t희소 손실: 0.1693291 \t전체 손실: 0.05054178\n",
      "69 훈련 MSE: 0.03972485 \t희소 손실: 0.19139591 \t전체 손실: 0.07800403\n",
      "70 훈련 MSE: 0.013303102 \t희소 손실: 0.5750419 \t전체 손실: 0.12831149\n",
      "71 훈련 MSE: 0.016355347 \t희소 손실: 0.17979726 \t전체 손실: 0.0523148\n",
      "72 훈련 MSE: 0.015996564 \t희소 손실: 0.18111144 \t전체 손실: 0.052218854\n",
      "73 훈련 MSE: 0.02636834 \t희소 손실: 0.37430426 \t전체 손실: 0.1012292\n",
      "74 훈련 MSE: 0.021831252 \t희소 손실: 0.13997638 \t전체 손실: 0.04982653\n",
      "75 훈련 MSE: 0.07560345 \t희소 손실: 0.7992927 \t전체 손실: 0.23546198\n",
      "76 훈련 MSE: 0.026323643 \t희소 손실: 0.19629677 \t전체 손실: 0.065583\n",
      "77 훈련 MSE: 0.015766092 \t희소 손실: 0.7538068 \t전체 손실: 0.16652745\n",
      "78 훈련 MSE: 0.016232835 \t희소 손실: 0.120921634 \t전체 손실: 0.040417165\n",
      "79 훈련 MSE: 0.013399572 \t희소 손실: 0.27167952 \t전체 손실: 0.06773548\n",
      "80 훈련 MSE: 0.014541287 \t희소 손실: 0.24881598 \t전체 손실: 0.064304486\n",
      "81 훈련 MSE: 0.013037661 \t희소 손실: 0.65029675 \t전체 손실: 0.14309701\n",
      "82 훈련 MSE: 0.018119382 \t희소 손실: 0.6274228 \t전체 손실: 0.14360395\n",
      "83 훈련 MSE: 0.015994903 \t희소 손실: 0.19324255 \t전체 손실: 0.054643415\n",
      "84 훈련 MSE: 0.030798893 \t희소 손실: 0.18826284 \t전체 손실: 0.068451464\n",
      "85 훈련 MSE: 0.014773004 \t희소 손실: 0.6550094 \t전체 손실: 0.14577487\n",
      "86 훈련 MSE: 0.015496702 \t희소 손실: 0.13404177 \t전체 손실: 0.042305056\n",
      "87 훈련 MSE: 0.015250462 \t희소 손실: 0.2501946 \t전체 손실: 0.065289386\n",
      "88 훈련 MSE: 0.030549817 \t희소 손실: 0.28987694 \t전체 손실: 0.088525206\n",
      "89 훈련 MSE: 0.016040144 \t희소 손실: 0.43205762 \t전체 손실: 0.102451675\n",
      "90 훈련 MSE: 0.017883439 \t희소 손실: 0.17069262 \t전체 손실: 0.052021965\n",
      "91 훈련 MSE: 0.036286812 \t희소 손실: 0.21978036 \t전체 손실: 0.08024289\n",
      "92 훈련 MSE: 0.025501115 \t희소 손실: 0.9054099 \t전체 손실: 0.2065831\n",
      "93 훈련 MSE: 0.014900374 \t희소 손실: 0.07155952 \t전체 손실: 0.029212277\n",
      "94 훈련 MSE: 0.0144343525 \t희소 손실: 0.4605446 \t전체 손실: 0.10654327\n",
      "95 훈련 MSE: 0.014248275 \t희소 손실: 0.08135306 \t전체 손실: 0.03051889\n",
      "96 훈련 MSE: 0.019080041 \t희소 손실: 0.9591343 \t전체 손실: 0.21090691\n",
      "97 훈련 MSE: 0.015559717 \t희소 손실: 1.0024724 \t전체 손실: 0.2160542\n",
      "98 훈련 MSE: 0.02297293 \t희소 손실: 0.11408512 \t전체 손실: 0.045789957\n",
      "99 훈련 MSE: 0.0149676055 \t희소 손실: 0.28819284 \t전체 손실: 0.072606176\n"
     ]
    }
   ],
   "source": [
    "n_epochs = 100\n",
    "batch_size = 1000\n",
    "\n",
    "with tf.Session() as sess:\n",
    "    init.run()\n",
    "    for epoch in range(n_epochs):\n",
    "        n_batches = len(X_train) // batch_size\n",
    "        for iteration in range(n_batches):\n",
    "            print(\"\\r{}%\".format(100 * iteration // n_batches), end=\"\")\n",
    "            sys.stdout.flush()\n",
    "            X_batch, y_batch = next(shuffle_batch(X_train, y_train, batch_size))\n",
    "            sess.run(training_op, feed_dict={X: X_batch})\n",
    "        reconstruction_loss_val, sparsity_loss_val, loss_val = sess.run([reconstruction_loss, sparsity_loss, loss], feed_dict={X: X_batch})\n",
    "        print(\"\\r{}\".format(epoch), \"훈련 MSE:\", reconstruction_loss_val, \"\\t희소 손실:\", sparsity_loss_val, \"\\t전체 손실:\", loss_val)\n",
    "        saver.save(sess, \"./my_model_sparse.ckpt\")"
   ]
  },
  {
   "cell_type": "code",
   "execution_count": 50,
   "metadata": {},
   "outputs": [
    {
     "name": "stdout",
     "output_type": "stream",
     "text": [
      "INFO:tensorflow:Restoring parameters from ./my_model_sparse.ckpt\n"
     ]
    },
    {
     "data": {
      "image/png": "[encoded data removed]",
      "text/plain": [
       "<Figure size 576x432 with 4 Axes>"
      ]
     },
     "metadata": {
      "needs_background": "light"
     },
     "output_type": "display_data"
    }
   ],
   "source": [
    "show_reconstructed_digits(X, outputs, \"./my_model_sparse.ckpt\")"
   ]
  },
  {
   "cell_type": "markdown",
   "metadata": {},
   "source": [
    "코딩층은 0에서 1사이의 값을 출력해야 하므로 시그모이드 활성화 함수를 사용합니다:"
   ]
  },
  {
   "cell_type": "code",
   "execution_count": 51,
   "metadata": {},
   "outputs": [],
   "source": [
    "hidden1 = tf.layers.dense(X, n_hidden1, activation=tf.nn.sigmoid)"
   ]
  },
  {
   "cell_type": "markdown",
   "metadata": {},
   "source": [
    "훈련 속도를 높이기 위해 입력을 0과 1사이로 정규화하고 비용 함수로 MSE 대신 크로스엔트로피를 사용합니다:"
   ]
  },
  {
   "cell_type": "code",
   "execution_count": 52,
   "metadata": {},
   "outputs": [],
   "source": [
    "logits = tf.layers.dense(hidden1, n_outputs)\n",
    "outputs = tf.nn.sigmoid(logits)\n",
    "\n",
    "xentropy = tf.nn.sigmoid_cross_entropy_with_logits(labels=X, logits=logits)\n",
    "reconstruction_loss = tf.reduce_mean(xentropy)"
   ]
  },
  {
   "cell_type": "markdown",
   "metadata": {},
   "source": [
    "# 변이형 오토인코더"
   ]
  },
  {
   "cell_type": "code",
   "execution_count": 53,
   "metadata": {},
   "outputs": [],
   "source": [
    "reset_graph()\n",
    "\n",
    "from functools import partial\n",
    "\n",
    "n_inputs = 28 * 28\n",
    "n_hidden1 = 500\n",
    "n_hidden2 = 500\n",
    "n_hidden3 = 20  # 코딩 유닛\n",
    "n_hidden4 = n_hidden2\n",
    "n_hidden5 = n_hidden1\n",
    "n_outputs = n_inputs\n",
    "learning_rate = 0.001\n",
    "\n",
    "initializer = tf.variance_scaling_initializer()\n",
    "\n",
    "my_dense_layer = partial(\n",
    "    tf.layers.dense,\n",
    "    activation=tf.nn.elu,\n",
    "    kernel_initializer=initializer)\n",
    "\n",
    "X = tf.placeholder(tf.float32, [None, n_inputs])\n",
    "hidden1 = my_dense_layer(X, n_hidden1)\n",
    "hidden2 = my_dense_layer(hidden1, n_hidden2)\n",
    "hidden3_mean = my_dense_layer(hidden2, n_hidden3, activation=None)\n",
    "hidden3_sigma = my_dense_layer(hidden2, n_hidden3, activation=None)\n",
    "noise = tf.random_normal(tf.shape(hidden3_sigma), dtype=tf.float32)\n",
    "hidden3 = hidden3_mean + hidden3_sigma * noise\n",
    "hidden4 = my_dense_layer(hidden3, n_hidden4)\n",
    "hidden5 = my_dense_layer(hidden4, n_hidden5)\n",
    "logits = my_dense_layer(hidden5, n_outputs, activation=None)\n",
    "outputs = tf.sigmoid(logits)\n",
    "\n",
    "xentropy = tf.nn.sigmoid_cross_entropy_with_logits(labels=X, logits=logits)\n",
    "reconstruction_loss = tf.reduce_sum(xentropy)"
   ]
  },
  {
   "cell_type": "code",
   "execution_count": 54,
   "metadata": {},
   "outputs": [],
   "source": [
    "eps = 1e-10 # NaN을 반환하는 log(0)을 피하기 위한 안전항\n",
    "latent_loss = 0.5 * tf.reduce_sum(\n",
    "    tf.square(hidden3_sigma) + tf.square(hidden3_mean)\n",
    "    - 1 - tf.log(eps + tf.square(hidden3_sigma)))"
   ]
  },
  {
   "cell_type": "code",
   "execution_count": 55,
   "metadata": {},
   "outputs": [],
   "source": [
    "loss = reconstruction_loss + latent_loss\n",
    "\n",
    "optimizer = tf.train.AdamOptimizer(learning_rate=learning_rate)\n",
    "training_op = optimizer.minimize(loss)\n",
    "\n",
    "init = tf.global_variables_initializer()\n",
    "saver = tf.train.Saver()"
   ]
  },
  {
   "cell_type": "code",
   "execution_count": 56,
   "metadata": {},
   "outputs": [
    {
     "name": "stdout",
     "output_type": "stream",
     "text": [
      "0 훈련 전체 손실: 29247.049 \t재구성 손실: 22822.238 \t잠재 손실: 6424.8105\n",
      "1 훈련 전체 손실: 26182.453 \t재구성 손실: 20934.893 \t잠재 손실: 5247.5605\n",
      "2 훈련 전체 손실: 25698.18 \t재구성 손실: 20954.8 \t잠재 손실: 4743.3794\n",
      "3 훈련 전체 손실: 25248.07 \t재구성 손실: 20476.709 \t잠재 손실: 4771.362\n",
      "4 훈련 전체 손실: 25461.266 \t재구성 손실: 19712.123 \t잠재 손실: 5749.1436\n",
      "5 훈련 전체 손실: 21265.982 \t재구성 손실: 17923.549 \t잠재 손실: 3342.434\n",
      "6 훈련 전체 손실: 18884.738 \t재구성 손실: 15684.486 \t잠재 손실: 3200.2517\n",
      "7 훈련 전체 손실: 16733.793 \t재구성 손실: 13663.436 \t잠재 손실: 3070.3564\n",
      "8 훈련 전체 손실: 16982.719 \t재구성 손실: 13775.327 \t잠재 손실: 3207.3926\n",
      "9 훈련 전체 손실: 16755.615 \t재구성 손실: 13484.042 \t잠재 손실: 3271.573\n",
      "10 훈련 전체 손실: 15729.791 \t재구성 손실: 12464.975 \t잠재 손실: 3264.8162\n",
      "11 훈련 전체 손실: 16303.145 \t재구성 손실: 12990.129 \t잠재 손실: 3313.0151\n",
      "12 훈련 전체 손실: 16742.21 \t재구성 손실: 13254.849 \t잠재 손실: 3487.3618\n",
      "13 훈련 전체 손실: 17047.064 \t재구성 손실: 13555.642 \t잠재 손실: 3491.4229\n",
      "14 훈련 전체 손실: 16477.695 \t재구성 손실: 12889.519 \t잠재 손실: 3588.1772\n",
      "15 훈련 전체 손실: 17581.635 \t재구성 손실: 14246.285 \t잠재 손실: 3335.3494\n",
      "16 훈련 전체 손실: 16232.697 \t재구성 손실: 13060.467 \t잠재 손실: 3172.2302\n",
      "17 훈련 전체 손실: 17109.633 \t재구성 손실: 13556.332 \t잠재 손실: 3553.2998\n",
      "18 훈련 전체 손실: 28858.797 \t재구성 손실: 20703.076 \t잠재 손실: 8155.721\n",
      "19 훈련 전체 손실: 31587.29 \t재구성 손실: 21757.646 \t잠재 손실: 9829.644\n",
      "20 훈련 전체 손실: 29487.777 \t재구성 손실: 23169.965 \t잠재 손실: 6317.8125\n",
      "21 훈련 전체 손실: 22565.922 \t재구성 손실: 18036.414 \t잠재 손실: 4529.509\n",
      "22 훈련 전체 손실: 28810.29 \t재구성 손실: 22739.932 \t잠재 손실: 6070.3564\n",
      "23 훈련 전체 손실: 25065.268 \t재구성 손실: 21118.207 \t잠재 손실: 3947.0605\n",
      "24 훈련 전체 손실: 23669.299 \t재구성 손실: 19514.078 \t잠재 손실: 4155.221\n",
      "25 훈련 전체 손실: 20841.541 \t재구성 손실: 16918.633 \t잠재 손실: 3922.9087\n",
      "26 훈련 전체 손실: 18725.547 \t재구성 손실: 15332.582 \t잠재 손실: 3392.9648\n",
      "27 훈련 전체 손실: 23859.355 \t재구성 손실: 17838.152 \t잠재 손실: 6021.204\n",
      "28 훈련 전체 손실: 29822.889 \t재구성 손실: 22590.506 \t잠재 손실: 7232.3833\n",
      "29 훈련 전체 손실: 25552.953 \t재구성 손실: 20245.72 \t잠재 손실: 5307.2324\n",
      "30 훈련 전체 손실: 25718.934 \t재구성 손실: 19262.96 \t잠재 손실: 6455.9736\n",
      "31 훈련 전체 손실: 31015.127 \t재구성 손실: 23083.582 \t잠재 손실: 7931.5454\n",
      "32 훈련 전체 손실: 25682.098 \t재구성 손실: 19013.477 \t잠재 손실: 6668.622\n",
      "33 훈련 전체 손실: 26759.912 \t재구성 손실: 20765.65 \t잠재 손실: 5994.262\n",
      "34 훈련 전체 손실: 18070.709 \t재구성 손실: 14578.266 \t잠재 손실: 3492.4429\n",
      "35 훈련 전체 손실: 16547.162 \t재구성 손실: 13276.503 \t잠재 손실: 3270.6594\n",
      "36 훈련 전체 손실: 16679.092 \t재구성 손실: 13413.594 \t잠재 손실: 3265.498\n",
      "37 훈련 전체 손실: 16219.314 \t재구성 손실: 12913.114 \t잠재 손실: 3306.2004\n",
      "38 훈련 전체 손실: 16316.187 \t재구성 손실: 12935.947 \t잠재 손실: 3380.2393\n",
      "39 훈련 전체 손실: 16591.822 \t재구성 손실: 13185.73 \t잠재 손실: 3406.0925\n",
      "40 훈련 전체 손실: 15985.87 \t재구성 손실: 12600.381 \t잠재 손실: 3385.4895\n",
      "41 훈련 전체 손실: 16235.871 \t재구성 손실: 12874.303 \t잠재 손실: 3361.5679\n",
      "42 훈련 전체 손실: 15879.199 \t재구성 손실: 12397.717 \t잠재 손실: 3481.483\n",
      "43 훈련 전체 손실: 15608.408 \t재구성 손실: 12240.564 \t잠재 손실: 3367.844\n",
      "44 훈련 전체 손실: 15616.156 \t재구성 손실: 12346.784 \t잠재 손실: 3269.3718\n",
      "45 훈련 전체 손실: 16545.498 \t재구성 손실: 12989.054 \t잠재 손실: 3556.4443\n",
      "46 훈련 전체 손실: 15903.115 \t재구성 손실: 12446.889 \t잠재 손실: 3456.2266\n",
      "47 훈련 전체 손실: 15227.257 \t재구성 손실: 11849.202 \t잠재 손실: 3378.0544\n",
      "48 훈련 전체 손실: 18442.508 \t재구성 손실: 14798.553 \t잠재 손실: 3643.9546\n",
      "49 훈련 전체 손실: 17085.486 \t재구성 손실: 13594.311 \t잠재 손실: 3491.176\n"
     ]
    }
   ],
   "source": [
    "n_epochs = 50\n",
    "batch_size = 150\n",
    "\n",
    "with tf.Session() as sess:\n",
    "    init.run()\n",
    "    for epoch in range(n_epochs):\n",
    "        n_batches = len(X_train) // batch_size\n",
    "        for iteration in range(n_batches):\n",
    "            print(\"\\r{}%\".format(100 * iteration // n_batches), end=\"\")\n",
    "            sys.stdout.flush()\n",
    "            X_batch, y_batch = next(shuffle_batch(X_train, y_train, batch_size))\n",
    "            sess.run(training_op, feed_dict={X: X_batch})\n",
    "        loss_val, reconstruction_loss_val, latent_loss_val = sess.run([loss, reconstruction_loss, latent_loss], feed_dict={X: X_batch})\n",
    "        print(\"\\r{}\".format(epoch), \"훈련 전체 손실:\", loss_val, \"\\t재구성 손실:\", reconstruction_loss_val, \"\\t잠재 손실:\", latent_loss_val)\n",
    "        saver.save(sess, \"./my_model_variational.ckpt\")"
   ]
  },
  {
   "cell_type": "code",
   "execution_count": 57,
   "metadata": {},
   "outputs": [],
   "source": [
    "reset_graph()\n",
    "\n",
    "from functools import partial\n",
    "\n",
    "n_inputs = 28 * 28\n",
    "n_hidden1 = 500\n",
    "n_hidden2 = 500\n",
    "n_hidden3 = 20  # 코딩 유닛\n",
    "n_hidden4 = n_hidden2\n",
    "n_hidden5 = n_hidden1\n",
    "n_outputs = n_inputs\n",
    "learning_rate = 0.001\n",
    "\n",
    "initializer = tf.variance_scaling_initializer()\n",
    "my_dense_layer = partial(\n",
    "    tf.layers.dense,\n",
    "    activation=tf.nn.elu,\n",
    "    kernel_initializer=initializer)\n",
    "\n",
    "X = tf.placeholder(tf.float32, [None, n_inputs])\n",
    "hidden1 = my_dense_layer(X, n_hidden1)\n",
    "hidden2 = my_dense_layer(hidden1, n_hidden2)\n",
    "hidden3_mean = my_dense_layer(hidden2, n_hidden3, activation=None)\n",
    "hidden3_gamma = my_dense_layer(hidden2, n_hidden3, activation=None)\n",
    "noise = tf.random_normal(tf.shape(hidden3_gamma), dtype=tf.float32)\n",
    "hidden3 = hidden3_mean + tf.exp(0.5 * hidden3_gamma) * noise\n",
    "hidden4 = my_dense_layer(hidden3, n_hidden4)\n",
    "hidden5 = my_dense_layer(hidden4, n_hidden5)\n",
    "logits = my_dense_layer(hidden5, n_outputs, activation=None)\n",
    "outputs = tf.sigmoid(logits)\n",
    "\n",
    "xentropy = tf.nn.sigmoid_cross_entropy_with_logits(labels=X, logits=logits)\n",
    "reconstruction_loss = tf.reduce_sum(xentropy)\n",
    "latent_loss = 0.5 * tf.reduce_sum(\n",
    "    tf.exp(hidden3_gamma) + tf.square(hidden3_mean) - 1 - hidden3_gamma)\n",
    "loss = reconstruction_loss + latent_loss\n",
    "\n",
    "optimizer = tf.train.AdamOptimizer(learning_rate=learning_rate)\n",
    "training_op = optimizer.minimize(loss)\n",
    "\n",
    "init = tf.global_variables_initializer()\n",
    "saver = tf.train.Saver()"
   ]
  },
  {
   "cell_type": "markdown",
   "metadata": {},
   "source": [
    "## 숫자 이미지 생성"
   ]
  },
  {
   "cell_type": "markdown",
   "metadata": {},
   "source": [
    "모델을 훈련시켜 랜덤한 이미지를 생성해 보겠습니다:"
   ]
  },
  {
   "cell_type": "code",
   "execution_count": 58,
   "metadata": {},
   "outputs": [
    {
     "name": "stdout",
     "output_type": "stream",
     "text": [
      "0 훈련 전체 손실: 18105.062 \t재구성 손실: 14386.966 \t잠재 손실: 3718.096\n",
      "1 훈련 전체 손실: 16242.928 \t재구성 손실: 12569.53 \t잠재 손실: 3673.3972\n",
      "2 훈련 전체 손실: 16819.037 \t재구성 손실: 13044.602 \t잠재 손실: 3774.4358\n",
      "3 훈련 전체 손실: 16235.688 \t재구성 손실: 12447.656 \t잠재 손실: 3788.032\n",
      "4 훈련 전체 손실: 16116.5 \t재구성 손실: 12329.039 \t잠재 손실: 3787.4607\n",
      "5 훈련 전체 손실: 15875.429 \t재구성 손실: 12192.674 \t잠재 손실: 3682.7546\n",
      "6 훈련 전체 손실: 15730.242 \t재구성 손실: 12037.004 \t잠재 손실: 3693.2378\n",
      "7 훈련 전체 손실: 15206.11 \t재구성 손실: 11490.01 \t잠재 손실: 3716.1008\n",
      "8 훈련 전체 손실: 15583.908 \t재구성 손실: 11798.415 \t잠재 손실: 3785.4927\n",
      "9 훈련 전체 손실: 15705.105 \t재구성 손실: 11796.545 \t잠재 손실: 3908.5605\n",
      "10 훈련 전체 손실: 15000.854 \t재구성 손실: 11308.127 \t잠재 손실: 3692.7266\n",
      "11 훈련 전체 손실: 15789.922 \t재구성 손실: 11941.993 \t잠재 손실: 3847.9287\n",
      "12 훈련 전체 손실: 15503.947 \t재구성 손실: 11621.289 \t잠재 손실: 3882.6582\n",
      "13 훈련 전체 손실: 15657.746 \t재구성 손실: 11861.416 \t잠재 손실: 3796.33\n",
      "14 훈련 전체 손실: 15168.76 \t재구성 손실: 11429.64 \t잠재 손실: 3739.1196\n",
      "15 훈련 전체 손실: 15347.633 \t재구성 손실: 11565.437 \t잠재 손실: 3782.1963\n",
      "16 훈련 전체 손실: 15212.989 \t재구성 손실: 11465.238 \t잠재 손실: 3747.751\n",
      "17 훈련 전체 손실: 15717.494 \t재구성 손실: 11980.311 \t잠재 손실: 3737.1836\n",
      "18 훈련 전체 손실: 14895.766 \t재구성 손실: 11182.543 \t잠재 손실: 3713.2231\n",
      "19 훈련 전체 손실: 14894.225 \t재구성 손실: 11241.634 \t잠재 손실: 3652.5908\n",
      "20 훈련 전체 손실: 15420.29 \t재구성 손실: 11587.91 \t잠재 손실: 3832.38\n",
      "21 훈련 전체 손실: 15472.783 \t재구성 손실: 11650.0625 \t잠재 손실: 3822.7207\n",
      "22 훈련 전체 손실: 15200.038 \t재구성 손실: 11416.732 \t잠재 손실: 3783.3057\n",
      "23 훈련 전체 손실: 15441.738 \t재구성 손실: 11542.346 \t잠재 손실: 3899.3923\n",
      "24 훈련 전체 손실: 15632.709 \t재구성 손실: 11813.916 \t잠재 손실: 3818.7935\n",
      "25 훈련 전체 손실: 15050.429 \t재구성 손실: 11339.078 \t잠재 손실: 3711.3508\n",
      "26 훈련 전체 손실: 14997.414 \t재구성 손실: 11273.865 \t잠재 손실: 3723.549\n",
      "27 훈련 전체 손실: 15035.238 \t재구성 손실: 11241.123 \t잠재 손실: 3794.1152\n",
      "28 훈련 전체 손실: 15268.287 \t재구성 손실: 11524.9 \t잠재 손실: 3743.3867\n",
      "29 훈련 전체 손실: 15192.891 \t재구성 손실: 11495.0625 \t잠재 손실: 3697.8276\n",
      "30 훈련 전체 손실: 14803.922 \t재구성 손실: 11084.3125 \t잠재 손실: 3719.609\n",
      "31 훈련 전체 손실: 14754.984 \t재구성 손실: 11055.23 \t잠재 손실: 3699.7542\n",
      "32 훈련 전체 손실: 14738.458 \t재구성 손실: 11028.99 \t잠재 손실: 3709.468\n",
      "33 훈련 전체 손실: 15054.952 \t재구성 손실: 11339.596 \t잠재 손실: 3715.3567\n",
      "34 훈련 전체 손실: 14546.099 \t재구성 손실: 10922.406 \t잠재 손실: 3623.6924\n",
      "35 훈련 전체 손실: 14226.656 \t재구성 손실: 10607.365 \t잠재 손실: 3619.291\n",
      "36 훈련 전체 손실: 14910.802 \t재구성 손실: 11196.441 \t잠재 손실: 3714.3604\n",
      "37 훈련 전체 손실: 14592.455 \t재구성 손실: 10871.225 \t잠재 손실: 3721.2305\n",
      "38 훈련 전체 손실: 14863.807 \t재구성 손실: 11205.769 \t잠재 손실: 3658.0383\n",
      "39 훈련 전체 손실: 15030.533 \t재구성 손실: 11274.49 \t잠재 손실: 3756.043\n",
      "40 훈련 전체 손실: 14906.748 \t재구성 손실: 11165.527 \t잠재 손실: 3741.2207\n",
      "41 훈련 전체 손실: 14925.0 \t재구성 손실: 11199.856 \t잠재 손실: 3725.1436\n",
      "42 훈련 전체 손실: 14884.355 \t재구성 손실: 11197.792 \t잠재 손실: 3686.5635\n",
      "43 훈련 전체 손실: 14541.249 \t재구성 손실: 10911.303 \t잠재 손실: 3629.9463\n",
      "44 훈련 전체 손실: 14616.752 \t재구성 손실: 11014.879 \t잠재 손실: 3601.8728\n",
      "45 훈련 전체 손실: 14973.424 \t재구성 손실: 11183.256 \t잠재 손실: 3790.1682\n",
      "46 훈련 전체 손실: 15090.047 \t재구성 손실: 11397.23 \t잠재 손실: 3692.8164\n",
      "47 훈련 전체 손실: 14409.35 \t재구성 손실: 10769.74 \t잠재 손실: 3639.6096\n",
      "48 훈련 전체 손실: 14673.557 \t재구성 손실: 10999.477 \t잠재 손실: 3674.08\n",
      "49 훈련 전체 손실: 15285.281 \t재구성 손실: 11517.984 \t잠재 손실: 3767.297\n"
     ]
    }
   ],
   "source": [
    "import numpy as np\n",
    "\n",
    "n_digits = 60\n",
    "n_epochs = 50\n",
    "batch_size = 150\n",
    "\n",
    "with tf.Session() as sess:\n",
    "    init.run()\n",
    "    for epoch in range(n_epochs):\n",
    "        n_batches = len(X_train) // batch_size\n",
    "        for iteration in range(n_batches):\n",
    "            print(\"\\r{}%\".format(100 * iteration // n_batches), end=\"\") # not shown in the book\n",
    "            sys.stdout.flush()                                          # not shown\n",
    "            X_batch, y_batch = next(shuffle_batch(X_train, y_train, batch_size))\n",
    "            sess.run(training_op, feed_dict={X: X_batch})\n",
    "        loss_val, reconstruction_loss_val, latent_loss_val = sess.run([loss, reconstruction_loss, latent_loss], feed_dict={X: X_batch}) # not shown\n",
    "        print(\"\\r{}\".format(epoch), \"훈련 전체 손실:\", loss_val, \"\\t재구성 손실:\", reconstruction_loss_val, \"\\t잠재 손실:\", latent_loss_val)  # not shown\n",
    "        saver.save(sess, \"./my_model_variational.ckpt\")  # not shown\n",
    "    \n",
    "    codings_rnd = np.random.normal(size=[n_digits, n_hidden3])\n",
    "    outputs_val = outputs.eval(feed_dict={hidden3: codings_rnd})"
   ]
  },
  {
   "cell_type": "code",
   "execution_count": 59,
   "metadata": {},
   "outputs": [
    {
     "data": {
      "image/png": "[encoded data removed]",
      "text/plain": [
       "<Figure size 576x3600 with 60 Axes>"
      ]
     },
     "metadata": {
      "needs_background": "light"
     },
     "output_type": "display_data"
    }
   ],
   "source": [
    "plt.figure(figsize=(8,50)) # 책에는 없음\n",
    "for iteration in range(n_digits):\n",
    "    plt.subplot(n_digits, 10, iteration + 1)\n",
    "    plot_image(outputs_val[iteration])"
   ]
  },
  {
   "cell_type": "code",
   "execution_count": 60,
   "metadata": {},
   "outputs": [
    {
     "data": {
      "image/png": "[encoded data removed]",
      "text/plain": [
       "<Figure size 432x288 with 1 Axes>"
      ]
     },
     "metadata": {
      "needs_background": "light"
     },
     "output_type": "display_data"
    }
   ],
   "source": [
    "n_rows = 6\n",
    "n_cols = 10\n",
    "plot_multiple_images(outputs_val.reshape(-1, 28, 28), n_rows, n_cols)\n",
    "save_fig(\"generated_digits_plot\")\n",
    "plt.show()"
   ]
  },
  {
   "cell_type": "markdown",
   "metadata": {},
   "source": [
    "여기에서 잠재 변수 손실은 조금 다르게 계산된 점을 주목하세요:"
   ]
  },
  {
   "cell_type": "code",
   "execution_count": 61,
   "metadata": {},
   "outputs": [],
   "source": [
    "latent_loss = 0.5 * tf.reduce_sum(\n",
    "    tf.exp(hidden3_gamma) + tf.square(hidden3_mean) - 1 - hidden3_gamma)"
   ]
  },
  {
   "cell_type": "markdown",
   "metadata": {},
   "source": [
    "## 인코드 & 디코드"
   ]
  },
  {
   "cell_type": "markdown",
   "metadata": {},
   "source": [
    "인코드:"
   ]
  },
  {
   "cell_type": "code",
   "execution_count": 62,
   "metadata": {},
   "outputs": [
    {
     "name": "stdout",
     "output_type": "stream",
     "text": [
      "INFO:tensorflow:Restoring parameters from ./my_model_variational.ckpt\n"
     ]
    }
   ],
   "source": [
    "n_digits = 3\n",
    "# X_test, y_test = mnist.test.next_batch(batch_size)\n",
    "X_test_batch, y_test_batch = next(shuffle_batch(X_test, y_test, batch_size))\n",
    "codings = hidden3\n",
    "\n",
    "with tf.Session() as sess:\n",
    "    saver.restore(sess, \"./my_model_variational.ckpt\")\n",
    "    codings_val = codings.eval(feed_dict={X: X_test_batch})"
   ]
  },
  {
   "cell_type": "markdown",
   "metadata": {},
   "source": [
    "디코드:"
   ]
  },
  {
   "cell_type": "code",
   "execution_count": 63,
   "metadata": {},
   "outputs": [
    {
     "name": "stdout",
     "output_type": "stream",
     "text": [
      "INFO:tensorflow:Restoring parameters from ./my_model_variational.ckpt\n"
     ]
    }
   ],
   "source": [
    "with tf.Session() as sess:\n",
    "    saver.restore(sess, \"./my_model_variational.ckpt\")\n",
    "    outputs_val = outputs.eval(feed_dict={codings: codings_val})"
   ]
  },
  {
   "cell_type": "markdown",
   "metadata": {},
   "source": [
    "재구성 이미지를 그려봅니다:"
   ]
  },
  {
   "cell_type": "code",
   "execution_count": 64,
   "metadata": {},
   "outputs": [
    {
     "data": {
      "image/png": "[encoded data removed]",
      "text/plain": [
       "<Figure size 576x540 with 6 Axes>"
      ]
     },
     "metadata": {
      "needs_background": "light"
     },
     "output_type": "display_data"
    }
   ],
   "source": [
    "fig = plt.figure(figsize=(8, 2.5 * n_digits))\n",
    "for iteration in range(n_digits):\n",
    "    plt.subplot(n_digits, 2, 1 + 2 * iteration)\n",
    "    plot_image(X_test_batch[iteration])\n",
    "    plt.subplot(n_digits, 2, 2 + 2 * iteration)\n",
    "    plot_image(outputs_val[iteration])"
   ]
  },
  {
   "cell_type": "markdown",
   "metadata": {},
   "source": [
    "## 숫자 이미지 보간"
   ]
  },
  {
   "cell_type": "code",
   "execution_count": 65,
   "metadata": {},
   "outputs": [
    {
     "name": "stdout",
     "output_type": "stream",
     "text": [
      "INFO:tensorflow:Restoring parameters from ./my_model_variational.ckpt\n"
     ]
    },
    {
     "data": {
      "image/png": "[encoded data removed]",
      "text/plain": [
       "<Figure size 792x324 with 6 Axes>"
      ]
     },
     "metadata": {
      "needs_background": "light"
     },
     "output_type": "display_data"
    },
    {
     "data": {
      "image/png": "[encoded data removed]",
      "text/plain": [
       "<Figure size 792x324 with 6 Axes>"
      ]
     },
     "metadata": {
      "needs_background": "light"
     },
     "output_type": "display_data"
    },
    {
     "data": {
      "image/png": "[encoded data removed]",
      "text/plain": [
       "<Figure size 792x324 with 6 Axes>"
      ]
     },
     "metadata": {
      "needs_background": "light"
     },
     "output_type": "display_data"
    },
    {
     "data": {
      "image/png": "[encoded data removed]",
      "text/plain": [
       "<Figure size 792x324 with 6 Axes>"
      ]
     },
     "metadata": {
      "needs_background": "light"
     },
     "output_type": "display_data"
    }
   ],
   "source": [
    "n_iterations = 3\n",
    "n_digits = 6\n",
    "codings_rnd = np.random.normal(size=[n_digits, n_hidden3])\n",
    "\n",
    "with tf.Session() as sess:\n",
    "    saver.restore(sess, \"./my_model_variational.ckpt\")\n",
    "    target_codings = np.roll(codings_rnd, -1, axis=0)\n",
    "    for iteration in range(n_iterations + 1):\n",
    "        codings_interpolate = codings_rnd + (target_codings - codings_rnd) * iteration / n_iterations\n",
    "        outputs_val = outputs.eval(feed_dict={codings: codings_interpolate})\n",
    "        plt.figure(figsize=(11, 1.5*n_iterations))\n",
    "        for digit_index in range(n_digits):\n",
    "            plt.subplot(1, n_digits, digit_index + 1)\n",
    "            plot_image(outputs_val[digit_index])\n",
    "        plt.show()"
   ]
  },
  {
   "cell_type": "markdown",
   "metadata": {
    "collapsed": true
   },
   "source": [
    "# 연습문제 해답"
   ]
  },
  {
   "cell_type": "markdown",
   "metadata": {},
   "source": [
    "Coming soon..."
   ]
  }
 ],
 "metadata": {
  "kernelspec": {
   "display_name": "Python 3",
   "language": "python",
   "name": "python3"
  },
  "language_info": {
   "codemirror_mode": {
    "name": "ipython",
    "version": 3
   },
   "file_extension": ".py",
   "mimetype": "text/x-python",
   "name": "python",
   "nbconvert_exporter": "python",
   "pygments_lexer": "ipython3",
   "version": "3.6.6"
  },
  "nav_menu": {
   "height": "381px",
   "width": "453px"
  },
  "toc": {
   "navigate_menu": true,
   "number_sections": true,
   "sideBar": true,
   "threshold": 6,
   "toc_cell": false,
   "toc_section_display": "block",
   "toc_window_display": false
  }
 },
 "nbformat": 4,
 "nbformat_minor": 1
}
